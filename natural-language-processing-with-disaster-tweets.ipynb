{
 "cells": [
  {
   "cell_type": "code",
   "execution_count": 1,
   "id": "c8fb84a9",
   "metadata": {
    "_cell_guid": "b1076dfc-b9ad-4769-8c92-a6c4dae69d19",
    "_uuid": "8f2839f25d086af736a60e9eeb907d3b93b6e0e5",
    "execution": {
     "iopub.execute_input": "2021-08-30T07:59:20.738333Z",
     "iopub.status.busy": "2021-08-30T07:59:20.737196Z",
     "iopub.status.idle": "2021-08-30T07:59:20.750972Z",
     "shell.execute_reply": "2021-08-30T07:59:20.751610Z",
     "shell.execute_reply.started": "2021-08-30T07:04:25.648025Z"
    },
    "papermill": {
     "duration": 0.066522,
     "end_time": "2021-08-30T07:59:20.751899",
     "exception": false,
     "start_time": "2021-08-30T07:59:20.685377",
     "status": "completed"
    },
    "tags": []
   },
   "outputs": [
    {
     "name": "stdout",
     "output_type": "stream",
     "text": [
      "/kaggle/input/nlp-getting-started/sample_submission.csv\n",
      "/kaggle/input/nlp-getting-started/train.csv\n",
      "/kaggle/input/nlp-getting-started/test.csv\n"
     ]
    }
   ],
   "source": [
    "# This Python 3 environment comes with many helpful analytics libraries installed\n",
    "# It is defined by the kaggle/python Docker image: https://github.com/kaggle/docker-python\n",
    "# For example, here's several helpful packages to load\n",
    "\n",
    "import numpy as np # linear algebra\n",
    "import pandas as pd # data processing, CSV file I/O (e.g. pd.read_csv)\n",
    "\n",
    "# Input data files are available in the read-only \"../input/\" directory\n",
    "# For example, running this (by clicking run or pressing Shift+Enter) will list all files under the input directory\n",
    "\n",
    "import os\n",
    "for dirname, _, filenames in os.walk('/kaggle/input'):\n",
    "    for filename in filenames:\n",
    "        print(os.path.join(dirname, filename))\n",
    "\n",
    "# You can write up to 20GB to the current directory (/kaggle/working/) that gets preserved as output when you create a version using \"Save & Run All\" \n",
    "# You can also write temporary files to /kaggle/temp/, but they won't be saved outside of the current session"
   ]
  },
  {
   "cell_type": "code",
   "execution_count": 2,
   "id": "4b1923ef",
   "metadata": {
    "execution": {
     "iopub.execute_input": "2021-08-30T07:59:20.853327Z",
     "iopub.status.busy": "2021-08-30T07:59:20.852635Z",
     "iopub.status.idle": "2021-08-30T07:59:29.428870Z",
     "shell.execute_reply": "2021-08-30T07:59:29.428207Z",
     "shell.execute_reply.started": "2021-08-30T07:06:20.094049Z"
    },
    "papermill": {
     "duration": 8.628443,
     "end_time": "2021-08-30T07:59:29.429011",
     "exception": false,
     "start_time": "2021-08-30T07:59:20.800568",
     "status": "completed"
    },
    "tags": []
   },
   "outputs": [],
   "source": [
    "# Importing Libraries\n",
    "\n",
    "import numpy as np # for linear algebra\n",
    "import pandas as pd \n",
    "import matplotlib.pyplot as plt\n",
    "import seaborn as sns\n",
    "import tensorflow as tf\n",
    "from tensorflow.keras import layers\n",
    "from sklearn.model_selection import KFold,train_test_split,cross_validate, ShuffleSplit\n",
    "import tensorflow_addons as tfa\n",
    "from keras import backend as K\n",
    "from sklearn.linear_model import LogisticRegression\n",
    "from sklearn.metrics import accuracy_score,f1_score\n",
    "import torch as torch\n",
    "import transformers as ppb\n",
    "import spacy\n"
   ]
  },
  {
   "cell_type": "markdown",
   "id": "9491b56f",
   "metadata": {
    "papermill": {
     "duration": 0.047413,
     "end_time": "2021-08-30T07:59:29.524643",
     "exception": false,
     "start_time": "2021-08-30T07:59:29.477230",
     "status": "completed"
    },
    "tags": []
   },
   "source": [
    "### **Outline** ###\n",
    "\n",
    "1. Preprocessing Text\n",
    "2. Transfer Learning From the Pretrained BERT Model\n",
    "3. Recurrent Network with the Long Short-Term Memory Cells\n",
    "4. Classifier for Keywords\n",
    "5. Ensembler Learner\n",
    "6. Predicting Test Data"
   ]
  },
  {
   "cell_type": "code",
   "execution_count": 3,
   "id": "3ae067e1",
   "metadata": {
    "execution": {
     "iopub.execute_input": "2021-08-30T07:59:29.625514Z",
     "iopub.status.busy": "2021-08-30T07:59:29.624688Z",
     "iopub.status.idle": "2021-08-30T07:59:29.692665Z",
     "shell.execute_reply": "2021-08-30T07:59:29.692089Z",
     "shell.execute_reply.started": "2021-08-30T07:08:53.459289Z"
    },
    "papermill": {
     "duration": 0.120459,
     "end_time": "2021-08-30T07:59:29.692810",
     "exception": false,
     "start_time": "2021-08-30T07:59:29.572351",
     "status": "completed"
    },
    "tags": []
   },
   "outputs": [],
   "source": [
    "# Importing Dataset\n",
    "df_train = pd.read_csv(\"/kaggle/input/nlp-getting-started/train.csv\")\n",
    "df_test = pd.read_csv(\"/kaggle/input/nlp-getting-started/test.csv\")"
   ]
  },
  {
   "cell_type": "code",
   "execution_count": 4,
   "id": "3da2a901",
   "metadata": {
    "execution": {
     "iopub.execute_input": "2021-08-30T07:59:29.803119Z",
     "iopub.status.busy": "2021-08-30T07:59:29.799787Z",
     "iopub.status.idle": "2021-08-30T07:59:29.819489Z",
     "shell.execute_reply": "2021-08-30T07:59:29.819967Z",
     "shell.execute_reply.started": "2021-08-30T07:09:09.668661Z"
    },
    "papermill": {
     "duration": 0.079245,
     "end_time": "2021-08-30T07:59:29.820152",
     "exception": false,
     "start_time": "2021-08-30T07:59:29.740907",
     "status": "completed"
    },
    "tags": []
   },
   "outputs": [
    {
     "name": "stdout",
     "output_type": "stream",
     "text": [
      "<class 'pandas.core.frame.DataFrame'>\n",
      "RangeIndex: 7613 entries, 0 to 7612\n",
      "Data columns (total 5 columns):\n",
      " #   Column    Non-Null Count  Dtype \n",
      "---  ------    --------------  ----- \n",
      " 0   id        7613 non-null   int64 \n",
      " 1   keyword   7552 non-null   object\n",
      " 2   location  5080 non-null   object\n",
      " 3   text      7613 non-null   object\n",
      " 4   target    7613 non-null   int64 \n",
      "dtypes: int64(2), object(3)\n",
      "memory usage: 297.5+ KB\n"
     ]
    }
   ],
   "source": [
    "df_train.info()"
   ]
  },
  {
   "cell_type": "code",
   "execution_count": 5,
   "id": "9b7e0553",
   "metadata": {
    "execution": {
     "iopub.execute_input": "2021-08-30T07:59:29.923764Z",
     "iopub.status.busy": "2021-08-30T07:59:29.920555Z",
     "iopub.status.idle": "2021-08-30T07:59:29.928007Z",
     "shell.execute_reply": "2021-08-30T07:59:29.928498Z",
     "shell.execute_reply.started": "2021-08-30T07:09:38.708415Z"
    },
    "papermill": {
     "duration": 0.060409,
     "end_time": "2021-08-30T07:59:29.928666",
     "exception": false,
     "start_time": "2021-08-30T07:59:29.868257",
     "status": "completed"
    },
    "tags": []
   },
   "outputs": [
    {
     "data": {
      "text/plain": [
       "0.4296597924602653"
      ]
     },
     "execution_count": 5,
     "metadata": {},
     "output_type": "execute_result"
    }
   ],
   "source": [
    "df_train.target.sum() / df_train.target.count()"
   ]
  },
  {
   "cell_type": "code",
   "execution_count": 6,
   "id": "90ae914c",
   "metadata": {
    "execution": {
     "iopub.execute_input": "2021-08-30T07:59:30.053896Z",
     "iopub.status.busy": "2021-08-30T07:59:30.053171Z",
     "iopub.status.idle": "2021-08-30T07:59:30.365139Z",
     "shell.execute_reply": "2021-08-30T07:59:30.365636Z",
     "shell.execute_reply.started": "2021-08-30T07:11:06.813205Z"
    },
    "papermill": {
     "duration": 0.388337,
     "end_time": "2021-08-30T07:59:30.365841",
     "exception": false,
     "start_time": "2021-08-30T07:59:29.977504",
     "status": "completed"
    },
    "tags": []
   },
   "outputs": [
    {
     "data": {
      "text/plain": [
       "<seaborn.axisgrid.FacetGrid at 0x7fc3ce8fc1d0>"
      ]
     },
     "execution_count": 6,
     "metadata": {},
     "output_type": "execute_result"
    },
    {
     "data": {
      "image/png": "[encoded data removed]",
      "text/plain": [
       "<Figure size 360x360 with 1 Axes>"
      ]
     },
     "metadata": {},
     "output_type": "display_data"
    }
   ],
   "source": [
    "plt.style.use('fivethirtyeight')\n",
    "sns.displot(data=df_train, x=\"target\")"
   ]
  },
  {
   "cell_type": "markdown",
   "id": "3d7de60e",
   "metadata": {
    "papermill": {
     "duration": 0.050977,
     "end_time": "2021-08-30T07:59:30.468198",
     "exception": false,
     "start_time": "2021-08-30T07:59:30.417221",
     "status": "completed"
    },
    "tags": []
   },
   "source": [
    "### **Clean Keyword** ###"
   ]
  },
  {
   "cell_type": "code",
   "execution_count": 7,
   "id": "8296e136",
   "metadata": {
    "execution": {
     "iopub.execute_input": "2021-08-30T07:59:30.571224Z",
     "iopub.status.busy": "2021-08-30T07:59:30.570607Z",
     "iopub.status.idle": "2021-08-30T07:59:30.574565Z",
     "shell.execute_reply": "2021-08-30T07:59:30.575155Z",
     "shell.execute_reply.started": "2021-08-30T07:12:15.309172Z"
    },
    "papermill": {
     "duration": 0.056904,
     "end_time": "2021-08-30T07:59:30.575314",
     "exception": false,
     "start_time": "2021-08-30T07:59:30.518410",
     "status": "completed"
    },
    "tags": []
   },
   "outputs": [],
   "source": [
    "def format_keyword(df):\n",
    "    df[\"keyword\"] = df[\"keyword\"].fillna(\".\")\n",
    "    df[\"keyword\"] = df.keyword.str.replace(\"%20\",\" \")"
   ]
  },
  {
   "cell_type": "code",
   "execution_count": 8,
   "id": "56448b4a",
   "metadata": {
    "execution": {
     "iopub.execute_input": "2021-08-30T07:59:30.677681Z",
     "iopub.status.busy": "2021-08-30T07:59:30.677064Z",
     "iopub.status.idle": "2021-08-30T07:59:30.690714Z",
     "shell.execute_reply": "2021-08-30T07:59:30.690198Z",
     "shell.execute_reply.started": "2021-08-30T07:12:29.088399Z"
    },
    "papermill": {
     "duration": 0.065761,
     "end_time": "2021-08-30T07:59:30.690855",
     "exception": false,
     "start_time": "2021-08-30T07:59:30.625094",
     "status": "completed"
    },
    "tags": []
   },
   "outputs": [],
   "source": [
    "format_keyword(df_train)"
   ]
  },
  {
   "cell_type": "code",
   "execution_count": 9,
   "id": "74604c4a",
   "metadata": {
    "execution": {
     "iopub.execute_input": "2021-08-30T07:59:30.795909Z",
     "iopub.status.busy": "2021-08-30T07:59:30.795290Z",
     "iopub.status.idle": "2021-08-30T07:59:30.804944Z",
     "shell.execute_reply": "2021-08-30T07:59:30.804348Z",
     "shell.execute_reply.started": "2021-08-30T07:12:38.84808Z"
    },
    "papermill": {
     "duration": 0.064516,
     "end_time": "2021-08-30T07:59:30.805084",
     "exception": false,
     "start_time": "2021-08-30T07:59:30.740568",
     "status": "completed"
    },
    "tags": []
   },
   "outputs": [
    {
     "data": {
      "text/plain": [
       "body bags          40\n",
       "harm               37\n",
       "armageddon         37\n",
       "wrecked            36\n",
       "deluge             36\n",
       "                   ..\n",
       "typhoon             1\n",
       "suicide bomber      1\n",
       "outbreak            1\n",
       "oil spill           1\n",
       "suicide bombing     1\n",
       "Name: keyword, Length: 219, dtype: int64"
      ]
     },
     "execution_count": 9,
     "metadata": {},
     "output_type": "execute_result"
    }
   ],
   "source": [
    "df_train.loc[df_train.target==0][\"keyword\"].value_counts()"
   ]
  },
  {
   "cell_type": "code",
   "execution_count": 10,
   "id": "0112ea12",
   "metadata": {
    "execution": {
     "iopub.execute_input": "2021-08-30T07:59:30.915757Z",
     "iopub.status.busy": "2021-08-30T07:59:30.914766Z",
     "iopub.status.idle": "2021-08-30T07:59:30.917382Z",
     "shell.execute_reply": "2021-08-30T07:59:30.917918Z",
     "shell.execute_reply.started": "2021-08-30T07:12:49.867919Z"
    },
    "papermill": {
     "duration": 0.063144,
     "end_time": "2021-08-30T07:59:30.918114",
     "exception": false,
     "start_time": "2021-08-30T07:59:30.854970",
     "status": "completed"
    },
    "tags": []
   },
   "outputs": [],
   "source": [
    "format_keyword(df_test)"
   ]
  },
  {
   "cell_type": "code",
   "execution_count": 11,
   "id": "eb566841",
   "metadata": {
    "execution": {
     "iopub.execute_input": "2021-08-30T07:59:31.034726Z",
     "iopub.status.busy": "2021-08-30T07:59:31.033989Z",
     "iopub.status.idle": "2021-08-30T07:59:31.037864Z",
     "shell.execute_reply": "2021-08-30T07:59:31.037273Z",
     "shell.execute_reply.started": "2021-08-30T07:12:59.068002Z"
    },
    "papermill": {
     "duration": 0.068377,
     "end_time": "2021-08-30T07:59:31.038005",
     "exception": false,
     "start_time": "2021-08-30T07:59:30.969628",
     "status": "completed"
    },
    "tags": []
   },
   "outputs": [
    {
     "name": "stdout",
     "output_type": "stream",
     "text": [
      "<class 'pandas.core.frame.DataFrame'>\n",
      "RangeIndex: 3263 entries, 0 to 3262\n",
      "Data columns (total 4 columns):\n",
      " #   Column    Non-Null Count  Dtype \n",
      "---  ------    --------------  ----- \n",
      " 0   id        3263 non-null   int64 \n",
      " 1   keyword   3263 non-null   object\n",
      " 2   location  2158 non-null   object\n",
      " 3   text      3263 non-null   object\n",
      "dtypes: int64(1), object(3)\n",
      "memory usage: 102.1+ KB\n"
     ]
    }
   ],
   "source": [
    "df_test.info()"
   ]
  },
  {
   "cell_type": "markdown",
   "id": "55f80aa2",
   "metadata": {
    "papermill": {
     "duration": 0.051225,
     "end_time": "2021-08-30T07:59:31.141216",
     "exception": false,
     "start_time": "2021-08-30T07:59:31.089991",
     "status": "completed"
    },
    "tags": []
   },
   "source": [
    "### **Clean Text** ###"
   ]
  },
  {
   "cell_type": "code",
   "execution_count": 12,
   "id": "07ccaab6",
   "metadata": {
    "execution": {
     "iopub.execute_input": "2021-08-30T07:59:31.276385Z",
     "iopub.status.busy": "2021-08-30T07:59:31.275563Z",
     "iopub.status.idle": "2021-08-30T07:59:31.279050Z",
     "shell.execute_reply": "2021-08-30T07:59:31.279513Z",
     "shell.execute_reply.started": "2021-08-30T07:13:52.172931Z"
    },
    "papermill": {
     "duration": 0.0876,
     "end_time": "2021-08-30T07:59:31.279683",
     "exception": false,
     "start_time": "2021-08-30T07:59:31.192083",
     "status": "completed"
    },
    "tags": []
   },
   "outputs": [
    {
     "data": {
      "text/plain": [
       "31"
      ]
     },
     "execution_count": 12,
     "metadata": {},
     "output_type": "execute_result"
    }
   ],
   "source": [
    "df_count = df_train.text.str.split().str.len()\n",
    "max(df_count)"
   ]
  },
  {
   "cell_type": "code",
   "execution_count": 13,
   "id": "6a27f28d",
   "metadata": {
    "execution": {
     "iopub.execute_input": "2021-08-30T07:59:31.396569Z",
     "iopub.status.busy": "2021-08-30T07:59:31.392861Z",
     "iopub.status.idle": "2021-08-30T07:59:31.399226Z",
     "shell.execute_reply": "2021-08-30T07:59:31.398619Z",
     "shell.execute_reply.started": "2021-08-30T07:14:23.318788Z"
    },
    "papermill": {
     "duration": 0.068423,
     "end_time": "2021-08-30T07:59:31.399359",
     "exception": false,
     "start_time": "2021-08-30T07:59:31.330936",
     "status": "completed"
    },
    "tags": []
   },
   "outputs": [],
   "source": [
    "import re\n",
    "def process_text(text):\n",
    "    text=text.replace(\"\\n\",\"\")\n",
    "    text = re.sub(r'@\\S+','',text)\n",
    "    text = re.sub(r'#\\S+','',text) \n",
    "    text = re.sub(r'https?://\\S+|www\\.\\S+|http?://\\S+','',text) \n",
    "    text = re.sub('[%s]' % re.escape(\"\"\"!\"#$%&'()*+,-./:;<=>?@[\\]^_`{|}~\"\"\"), '', text)  \n",
    "    text = re.sub(r'[0-9]', '', text)\n",
    "    text = re.sub(\"[\"\n",
    "                           u\"\\U0001F600-\\U0001F64F\"  # removal of emoticons\n",
    "                           u\"\\U0001F300-\\U0001F5FF\"  # symbols & pictographs\n",
    "                           u\"\\U0001F680-\\U0001F6FF\"  # transport & map symbols\n",
    "                           u\"\\U0001F1E0-\\U0001F1FF\"  # flags (iOS)\n",
    "                           u\"\\U00002702-\\U000027B0\"\n",
    "                           u\"\\U000024C2-\\U0001F251\"\n",
    "                           \"]+\",' ',text)\n",
    "    text = text.lower()\n",
    "    text = text.split()\n",
    "    res = \"\"\n",
    "    for token in text:\n",
    "        if not token==\" \":\n",
    "            res += token +\" \"\n",
    "    \n",
    "    return res"
   ]
  },
  {
   "cell_type": "code",
   "execution_count": 14,
   "id": "a6876487",
   "metadata": {
    "execution": {
     "iopub.execute_input": "2021-08-30T07:59:31.512082Z",
     "iopub.status.busy": "2021-08-30T07:59:31.511449Z",
     "iopub.status.idle": "2021-08-30T07:59:31.515643Z",
     "shell.execute_reply": "2021-08-30T07:59:31.515007Z",
     "shell.execute_reply.started": "2021-08-30T07:14:41.788566Z"
    },
    "papermill": {
     "duration": 0.06374,
     "end_time": "2021-08-30T07:59:31.515785",
     "exception": false,
     "start_time": "2021-08-30T07:59:31.452045",
     "status": "completed"
    },
    "tags": []
   },
   "outputs": [
    {
     "data": {
      "text/plain": [
       "'hello utc world '"
      ]
     },
     "execution_count": 14,
     "metadata": {},
     "output_type": "execute_result"
    }
   ],
   "source": [
    "sample_doc = \"!!! @user @twi #topic \\n\\nHello,   UTC20150805 World http://t.com\"\n",
    "process_text(sample_doc)"
   ]
  },
  {
   "cell_type": "code",
   "execution_count": 15,
   "id": "172d1659",
   "metadata": {
    "execution": {
     "iopub.execute_input": "2021-08-30T07:59:31.644538Z",
     "iopub.status.busy": "2021-08-30T07:59:31.628871Z",
     "iopub.status.idle": "2021-08-30T07:59:31.954178Z",
     "shell.execute_reply": "2021-08-30T07:59:31.953592Z",
     "shell.execute_reply.started": "2021-08-30T07:14:57.187996Z"
    },
    "papermill": {
     "duration": 0.387048,
     "end_time": "2021-08-30T07:59:31.954319",
     "exception": false,
     "start_time": "2021-08-30T07:59:31.567271",
     "status": "completed"
    },
    "tags": []
   },
   "outputs": [],
   "source": [
    "df_train[\"text\"] = df_train.text.transform(lambda x: process_text(x))\n",
    "df_test[\"text\"] = df_test.text.transform(lambda x: process_text(x))"
   ]
  },
  {
   "cell_type": "markdown",
   "id": "d974315d",
   "metadata": {
    "papermill": {
     "duration": 0.051041,
     "end_time": "2021-08-30T07:59:32.056578",
     "exception": false,
     "start_time": "2021-08-30T07:59:32.005537",
     "status": "completed"
    },
    "tags": []
   },
   "source": [
    "### **Duplicate Tweet With Ambiguous Target** ###"
   ]
  },
  {
   "cell_type": "code",
   "execution_count": 16,
   "id": "516c1949",
   "metadata": {
    "execution": {
     "iopub.execute_input": "2021-08-30T07:59:32.166669Z",
     "iopub.status.busy": "2021-08-30T07:59:32.166026Z",
     "iopub.status.idle": "2021-08-30T07:59:32.182975Z",
     "shell.execute_reply": "2021-08-30T07:59:32.182428Z",
     "shell.execute_reply.started": "2021-08-30T07:15:42.547791Z"
    },
    "papermill": {
     "duration": 0.074693,
     "end_time": "2021-08-30T07:59:32.183136",
     "exception": false,
     "start_time": "2021-08-30T07:59:32.108443",
     "status": "completed"
    },
    "tags": []
   },
   "outputs": [],
   "source": [
    "df_train[\"appears\"]=df_train.groupby(\"text\").text.transform(\"count\")"
   ]
  },
  {
   "cell_type": "code",
   "execution_count": 17,
   "id": "3547edd8",
   "metadata": {
    "execution": {
     "iopub.execute_input": "2021-08-30T07:59:32.292608Z",
     "iopub.status.busy": "2021-08-30T07:59:32.291978Z",
     "iopub.status.idle": "2021-08-30T07:59:32.321953Z",
     "shell.execute_reply": "2021-08-30T07:59:32.321398Z",
     "shell.execute_reply.started": "2021-08-30T07:16:00.328255Z"
    },
    "papermill": {
     "duration": 0.087548,
     "end_time": "2021-08-30T07:59:32.322115",
     "exception": false,
     "start_time": "2021-08-30T07:59:32.234567",
     "status": "completed"
    },
    "tags": []
   },
   "outputs": [],
   "source": [
    "df_train[\"target_std\"]=df_train.groupby(\"text\").target.transform(np.std)\n",
    "df_train[\"target_mean\"]=df_train.groupby(\"text\").target.transform(np.mean)"
   ]
  },
  {
   "cell_type": "code",
   "execution_count": 18,
   "id": "9e5001c6",
   "metadata": {
    "execution": {
     "iopub.execute_input": "2021-08-30T07:59:32.441211Z",
     "iopub.status.busy": "2021-08-30T07:59:32.440544Z",
     "iopub.status.idle": "2021-08-30T07:59:32.449305Z",
     "shell.execute_reply": "2021-08-30T07:59:32.450159Z",
     "shell.execute_reply.started": "2021-08-30T07:16:11.808733Z"
    },
    "papermill": {
     "duration": 0.077427,
     "end_time": "2021-08-30T07:59:32.450391",
     "exception": false,
     "start_time": "2021-08-30T07:59:32.372964",
     "status": "completed"
    },
    "tags": []
   },
   "outputs": [],
   "source": [
    "duplicate_ids = df_train.loc[df_train.target_std>0].sort_values(by=[\"appears\",\"text\"],ascending=False).index"
   ]
  },
  {
   "cell_type": "code",
   "execution_count": 19,
   "id": "a378d98c",
   "metadata": {
    "execution": {
     "iopub.execute_input": "2021-08-30T07:59:32.576809Z",
     "iopub.status.busy": "2021-08-30T07:59:32.575898Z",
     "iopub.status.idle": "2021-08-30T07:59:32.579575Z",
     "shell.execute_reply": "2021-08-30T07:59:32.579075Z",
     "shell.execute_reply.started": "2021-08-30T07:16:20.189023Z"
    },
    "papermill": {
     "duration": 0.059896,
     "end_time": "2021-08-30T07:59:32.579709",
     "exception": false,
     "start_time": "2021-08-30T07:59:32.519813",
     "status": "completed"
    },
    "tags": []
   },
   "outputs": [
    {
     "data": {
      "text/plain": [
       "Int64Index([4391, 4392, 4393, 4394, 4396, 4397, 4399, 4400, 4403, 4404,\n",
       "            ...\n",
       "            5813, 5814, 4232, 4235, 1164, 1186,  321,  323, 2649, 2675],\n",
       "           dtype='int64', length=336)"
      ]
     },
     "execution_count": 19,
     "metadata": {},
     "output_type": "execute_result"
    }
   ],
   "source": [
    "duplicate_ids"
   ]
  },
  {
   "cell_type": "code",
   "execution_count": 20,
   "id": "08e35b24",
   "metadata": {
    "execution": {
     "iopub.execute_input": "2021-08-30T07:59:32.687083Z",
     "iopub.status.busy": "2021-08-30T07:59:32.686495Z",
     "iopub.status.idle": "2021-08-30T07:59:32.689464Z",
     "shell.execute_reply": "2021-08-30T07:59:32.690017Z",
     "shell.execute_reply.started": "2021-08-30T07:16:33.358648Z"
    },
    "papermill": {
     "duration": 0.059047,
     "end_time": "2021-08-30T07:59:32.690204",
     "exception": false,
     "start_time": "2021-08-30T07:59:32.631157",
     "status": "completed"
    },
    "tags": []
   },
   "outputs": [],
   "source": [
    "df_train = df_train.drop(index = duplicate_ids)"
   ]
  },
  {
   "cell_type": "code",
   "execution_count": 21,
   "id": "ec4d8fbb",
   "metadata": {
    "execution": {
     "iopub.execute_input": "2021-08-30T07:59:32.795444Z",
     "iopub.status.busy": "2021-08-30T07:59:32.794835Z",
     "iopub.status.idle": "2021-08-30T07:59:32.804628Z",
     "shell.execute_reply": "2021-08-30T07:59:32.805137Z",
     "shell.execute_reply.started": "2021-08-30T07:16:43.91377Z"
    },
    "papermill": {
     "duration": 0.063776,
     "end_time": "2021-08-30T07:59:32.805301",
     "exception": false,
     "start_time": "2021-08-30T07:59:32.741525",
     "status": "completed"
    },
    "tags": []
   },
   "outputs": [],
   "source": [
    "df_train = df_train.drop_duplicates(subset=[\"text\"])"
   ]
  },
  {
   "cell_type": "code",
   "execution_count": 22,
   "id": "4500c2ff",
   "metadata": {
    "execution": {
     "iopub.execute_input": "2021-08-30T07:59:32.911355Z",
     "iopub.status.busy": "2021-08-30T07:59:32.910735Z",
     "iopub.status.idle": "2021-08-30T07:59:32.933343Z",
     "shell.execute_reply": "2021-08-30T07:59:32.933905Z",
     "shell.execute_reply.started": "2021-08-30T07:16:54.628609Z"
    },
    "papermill": {
     "duration": 0.077023,
     "end_time": "2021-08-30T07:59:32.934079",
     "exception": false,
     "start_time": "2021-08-30T07:59:32.857056",
     "status": "completed"
    },
    "tags": []
   },
   "outputs": [
    {
     "data": {
      "text/html": [
       "<div>\n",
       "<style scoped>\n",
       "    .dataframe tbody tr th:only-of-type {\n",
       "        vertical-align: middle;\n",
       "    }\n",
       "\n",
       "    .dataframe tbody tr th {\n",
       "        vertical-align: top;\n",
       "    }\n",
       "\n",
       "    .dataframe thead th {\n",
       "        text-align: right;\n",
       "    }\n",
       "</style>\n",
       "<table border=\"1\" class=\"dataframe\">\n",
       "  <thead>\n",
       "    <tr style=\"text-align: right;\">\n",
       "      <th></th>\n",
       "      <th>id</th>\n",
       "      <th>keyword</th>\n",
       "      <th>location</th>\n",
       "      <th>text</th>\n",
       "      <th>target</th>\n",
       "      <th>appears</th>\n",
       "      <th>target_std</th>\n",
       "      <th>target_mean</th>\n",
       "    </tr>\n",
       "  </thead>\n",
       "  <tbody>\n",
       "    <tr>\n",
       "      <th>0</th>\n",
       "      <td>1</td>\n",
       "      <td>.</td>\n",
       "      <td>NaN</td>\n",
       "      <td>our deeds are the reason of this may allah for...</td>\n",
       "      <td>1</td>\n",
       "      <td>1</td>\n",
       "      <td>NaN</td>\n",
       "      <td>1.0</td>\n",
       "    </tr>\n",
       "    <tr>\n",
       "      <th>1</th>\n",
       "      <td>4</td>\n",
       "      <td>.</td>\n",
       "      <td>NaN</td>\n",
       "      <td>forest fire near la ronge sask canada</td>\n",
       "      <td>1</td>\n",
       "      <td>1</td>\n",
       "      <td>NaN</td>\n",
       "      <td>1.0</td>\n",
       "    </tr>\n",
       "    <tr>\n",
       "      <th>2</th>\n",
       "      <td>5</td>\n",
       "      <td>.</td>\n",
       "      <td>NaN</td>\n",
       "      <td>all residents asked to shelter in place are be...</td>\n",
       "      <td>1</td>\n",
       "      <td>1</td>\n",
       "      <td>NaN</td>\n",
       "      <td>1.0</td>\n",
       "    </tr>\n",
       "    <tr>\n",
       "      <th>3</th>\n",
       "      <td>6</td>\n",
       "      <td>.</td>\n",
       "      <td>NaN</td>\n",
       "      <td>people receive evacuation orders in california</td>\n",
       "      <td>1</td>\n",
       "      <td>1</td>\n",
       "      <td>NaN</td>\n",
       "      <td>1.0</td>\n",
       "    </tr>\n",
       "    <tr>\n",
       "      <th>4</th>\n",
       "      <td>7</td>\n",
       "      <td>.</td>\n",
       "      <td>NaN</td>\n",
       "      <td>just got sent this photo from ruby as smoke fr...</td>\n",
       "      <td>1</td>\n",
       "      <td>1</td>\n",
       "      <td>NaN</td>\n",
       "      <td>1.0</td>\n",
       "    </tr>\n",
       "    <tr>\n",
       "      <th>...</th>\n",
       "      <td>...</td>\n",
       "      <td>...</td>\n",
       "      <td>...</td>\n",
       "      <td>...</td>\n",
       "      <td>...</td>\n",
       "      <td>...</td>\n",
       "      <td>...</td>\n",
       "      <td>...</td>\n",
       "    </tr>\n",
       "    <tr>\n",
       "      <th>6662</th>\n",
       "      <td>10854</td>\n",
       "      <td>.</td>\n",
       "      <td>NaN</td>\n",
       "      <td>in km ssw of anza california users download th...</td>\n",
       "      <td>1</td>\n",
       "      <td>1</td>\n",
       "      <td>NaN</td>\n",
       "      <td>1.0</td>\n",
       "    </tr>\n",
       "    <tr>\n",
       "      <th>6663</th>\n",
       "      <td>10860</td>\n",
       "      <td>.</td>\n",
       "      <td>NaN</td>\n",
       "      <td>a siren just went off and it wasnt the forney ...</td>\n",
       "      <td>1</td>\n",
       "      <td>1</td>\n",
       "      <td>NaN</td>\n",
       "      <td>1.0</td>\n",
       "    </tr>\n",
       "    <tr>\n",
       "      <th>6664</th>\n",
       "      <td>10862</td>\n",
       "      <td>.</td>\n",
       "      <td>NaN</td>\n",
       "      <td>officials say a quarantine is in place at an a...</td>\n",
       "      <td>1</td>\n",
       "      <td>1</td>\n",
       "      <td>NaN</td>\n",
       "      <td>1.0</td>\n",
       "    </tr>\n",
       "    <tr>\n",
       "      <th>6665</th>\n",
       "      <td>10864</td>\n",
       "      <td>.</td>\n",
       "      <td>NaN</td>\n",
       "      <td>on the flip side im at walmart and there is a ...</td>\n",
       "      <td>1</td>\n",
       "      <td>1</td>\n",
       "      <td>NaN</td>\n",
       "      <td>1.0</td>\n",
       "    </tr>\n",
       "    <tr>\n",
       "      <th>6666</th>\n",
       "      <td>10866</td>\n",
       "      <td>.</td>\n",
       "      <td>NaN</td>\n",
       "      <td>suicide bomber kills in saudi security site mo...</td>\n",
       "      <td>1</td>\n",
       "      <td>1</td>\n",
       "      <td>NaN</td>\n",
       "      <td>1.0</td>\n",
       "    </tr>\n",
       "  </tbody>\n",
       "</table>\n",
       "<p>6667 rows × 8 columns</p>\n",
       "</div>"
      ],
      "text/plain": [
       "         id keyword location  \\\n",
       "0         1       .      NaN   \n",
       "1         4       .      NaN   \n",
       "2         5       .      NaN   \n",
       "3         6       .      NaN   \n",
       "4         7       .      NaN   \n",
       "...     ...     ...      ...   \n",
       "6662  10854       .      NaN   \n",
       "6663  10860       .      NaN   \n",
       "6664  10862       .      NaN   \n",
       "6665  10864       .      NaN   \n",
       "6666  10866       .      NaN   \n",
       "\n",
       "                                                   text  target  appears  \\\n",
       "0     our deeds are the reason of this may allah for...       1        1   \n",
       "1                forest fire near la ronge sask canada        1        1   \n",
       "2     all residents asked to shelter in place are be...       1        1   \n",
       "3       people receive evacuation orders in california        1        1   \n",
       "4     just got sent this photo from ruby as smoke fr...       1        1   \n",
       "...                                                 ...     ...      ...   \n",
       "6662  in km ssw of anza california users download th...       1        1   \n",
       "6663  a siren just went off and it wasnt the forney ...       1        1   \n",
       "6664  officials say a quarantine is in place at an a...       1        1   \n",
       "6665  on the flip side im at walmart and there is a ...       1        1   \n",
       "6666  suicide bomber kills in saudi security site mo...       1        1   \n",
       "\n",
       "      target_std  target_mean  \n",
       "0            NaN          1.0  \n",
       "1            NaN          1.0  \n",
       "2            NaN          1.0  \n",
       "3            NaN          1.0  \n",
       "4            NaN          1.0  \n",
       "...          ...          ...  \n",
       "6662         NaN          1.0  \n",
       "6663         NaN          1.0  \n",
       "6664         NaN          1.0  \n",
       "6665         NaN          1.0  \n",
       "6666         NaN          1.0  \n",
       "\n",
       "[6667 rows x 8 columns]"
      ]
     },
     "execution_count": 22,
     "metadata": {},
     "output_type": "execute_result"
    }
   ],
   "source": [
    "df_train.reset_index(drop=True,inplace=True)\n",
    "df_train"
   ]
  },
  {
   "cell_type": "code",
   "execution_count": 23,
   "id": "00fbbc43",
   "metadata": {
    "execution": {
     "iopub.execute_input": "2021-08-30T07:59:33.041159Z",
     "iopub.status.busy": "2021-08-30T07:59:33.040524Z",
     "iopub.status.idle": "2021-08-30T08:00:53.569770Z",
     "shell.execute_reply": "2021-08-30T08:00:53.569032Z",
     "shell.execute_reply.started": "2021-08-30T07:17:12.567931Z"
    },
    "papermill": {
     "duration": 80.583851,
     "end_time": "2021-08-30T08:00:53.569941",
     "exception": false,
     "start_time": "2021-08-30T07:59:32.986090",
     "status": "completed"
    },
    "tags": []
   },
   "outputs": [],
   "source": [
    "nlp = spacy.load(\"en_core_web_lg\")\n",
    "keyword_train = np.array([nlp(text).vector for text in df_train.keyword])\n",
    "keyword_test = np.array([nlp(text).vector for text in df_test.keyword])"
   ]
  },
  {
   "cell_type": "code",
   "execution_count": 24,
   "id": "9fcbd1da",
   "metadata": {
    "execution": {
     "iopub.execute_input": "2021-08-30T08:00:53.684116Z",
     "iopub.status.busy": "2021-08-30T08:00:53.683362Z",
     "iopub.status.idle": "2021-08-30T08:00:53.686367Z",
     "shell.execute_reply": "2021-08-30T08:00:53.685802Z",
     "shell.execute_reply.started": "2021-08-30T07:20:16.992984Z"
    },
    "papermill": {
     "duration": 0.063516,
     "end_time": "2021-08-30T08:00:53.686508",
     "exception": false,
     "start_time": "2021-08-30T08:00:53.622992",
     "status": "completed"
    },
    "tags": []
   },
   "outputs": [],
   "source": [
    "def nlp_vectors(text):\n",
    "    res = []\n",
    "    doc = nlp(text)\n",
    "    for token in doc:\n",
    "        if not token.is_space:\n",
    "            res.append(token.vector)\n",
    "    return res\n",
    "\n",
    "def build_nlp_vectors(df_text):\n",
    "    spacy_vectors = ([nlp_vectors(text) for text in df_text])\n",
    "    max_length = 0;\n",
    "    for vector in spacy_vectors:\n",
    "        max_length = max(max_length, len(vector))\n",
    "    print(f\"Maximum Length:{ max_length}\")\n",
    "    for i in range(len(spacy_vectors)):\n",
    "        while(len(spacy_vectors[i]) <max_length):\n",
    "            spacy_vectors[i].append([0]*300)\n",
    "    spacy_vectors = np.array(spacy_vectors)\n",
    "    print(f\"Shape of spacy vector:{spacy_vectors.shape}\")\n",
    "    return spacy_vectors"
   ]
  },
  {
   "cell_type": "code",
   "execution_count": 25,
   "id": "0a083cb3",
   "metadata": {
    "execution": {
     "iopub.execute_input": "2021-08-30T08:00:53.799571Z",
     "iopub.status.busy": "2021-08-30T08:00:53.798840Z",
     "iopub.status.idle": "2021-08-30T08:02:09.616638Z",
     "shell.execute_reply": "2021-08-30T08:02:09.615966Z",
     "shell.execute_reply.started": "2021-08-30T07:20:25.293243Z"
    },
    "papermill": {
     "duration": 75.877901,
     "end_time": "2021-08-30T08:02:09.616798",
     "exception": false,
     "start_time": "2021-08-30T08:00:53.738897",
     "status": "completed"
    },
    "tags": []
   },
   "outputs": [
    {
     "name": "stdout",
     "output_type": "stream",
     "text": [
      "Maximum Length:32\n",
      "Shape of spacy vector:(6667, 32, 300)\n"
     ]
    }
   ],
   "source": [
    "nlp_train = build_nlp_vectors(df_train.text)"
   ]
  },
  {
   "cell_type": "code",
   "execution_count": 26,
   "id": "5ef48e90",
   "metadata": {
    "execution": {
     "iopub.execute_input": "2021-08-30T08:02:09.729228Z",
     "iopub.status.busy": "2021-08-30T08:02:09.728419Z",
     "iopub.status.idle": "2021-08-30T08:02:22.981709Z",
     "shell.execute_reply": "2021-08-30T08:02:22.982446Z",
     "shell.execute_reply.started": "2021-08-30T07:21:34.793592Z"
    },
    "papermill": {
     "duration": 13.312498,
     "end_time": "2021-08-30T08:02:22.982687",
     "exception": false,
     "start_time": "2021-08-30T08:02:09.670189",
     "status": "completed"
    },
    "tags": []
   },
   "outputs": [
    {
     "data": {
      "application/vnd.jupyter.widget-view+json": {
       "model_id": "cd18a922c14243c1b1baede92d52bed5",
       "version_major": 2,
       "version_minor": 0
      },
      "text/plain": [
       "Downloading:   0%|          | 0.00/232k [00:00<?, ?B/s]"
      ]
     },
     "metadata": {},
     "output_type": "display_data"
    },
    {
     "data": {
      "application/vnd.jupyter.widget-view+json": {
       "model_id": "cb7964f0170148f8ba2be5fef019d43d",
       "version_major": 2,
       "version_minor": 0
      },
      "text/plain": [
       "Downloading:   0%|          | 0.00/28.0 [00:00<?, ?B/s]"
      ]
     },
     "metadata": {},
     "output_type": "display_data"
    },
    {
     "data": {
      "application/vnd.jupyter.widget-view+json": {
       "model_id": "15f463a0b6db49abb3c46330d525cc93",
       "version_major": 2,
       "version_minor": 0
      },
      "text/plain": [
       "Downloading:   0%|          | 0.00/466k [00:00<?, ?B/s]"
      ]
     },
     "metadata": {},
     "output_type": "display_data"
    },
    {
     "data": {
      "application/vnd.jupyter.widget-view+json": {
       "model_id": "036bb5302a274bb780d68c0bab8837ed",
       "version_major": 2,
       "version_minor": 0
      },
      "text/plain": [
       "Downloading:   0%|          | 0.00/483 [00:00<?, ?B/s]"
      ]
     },
     "metadata": {},
     "output_type": "display_data"
    },
    {
     "data": {
      "application/vnd.jupyter.widget-view+json": {
       "model_id": "4951c87061f048569d4ad705d327789d",
       "version_major": 2,
       "version_minor": 0
      },
      "text/plain": [
       "Downloading:   0%|          | 0.00/268M [00:00<?, ?B/s]"
      ]
     },
     "metadata": {},
     "output_type": "display_data"
    },
    {
     "name": "stderr",
     "output_type": "stream",
     "text": [
      "Some weights of the model checkpoint at distilbert-base-uncased were not used when initializing DistilBertModel: ['vocab_projector.weight', 'vocab_transform.weight', 'vocab_layer_norm.bias', 'vocab_transform.bias', 'vocab_layer_norm.weight', 'vocab_projector.bias']\n",
      "- This IS expected if you are initializing DistilBertModel from the checkpoint of a model trained on another task or with another architecture (e.g. initializing a BertForSequenceClassification model from a BertForPreTraining model).\n",
      "- This IS NOT expected if you are initializing DistilBertModel from the checkpoint of a model that you expect to be exactly identical (initializing a BertForSequenceClassification model from a BertForSequenceClassification model).\n"
     ]
    }
   ],
   "source": [
    "tokenizer = ppb.DistilBertTokenizer.from_pretrained(\"distilbert-base-uncased\")\n",
    "bert_model = ppb.DistilBertModel.from_pretrained(\"distilbert-base-uncased\")"
   ]
  },
  {
   "cell_type": "code",
   "execution_count": 27,
   "id": "8a0b738d",
   "metadata": {
    "execution": {
     "iopub.execute_input": "2021-08-30T08:02:23.104940Z",
     "iopub.status.busy": "2021-08-30T08:02:23.103795Z",
     "iopub.status.idle": "2021-08-30T08:02:23.106988Z",
     "shell.execute_reply": "2021-08-30T08:02:23.106463Z",
     "shell.execute_reply.started": "2021-08-30T07:22:03.18855Z"
    },
    "papermill": {
     "duration": 0.067405,
     "end_time": "2021-08-30T08:02:23.107145",
     "exception": false,
     "start_time": "2021-08-30T08:02:23.039740",
     "status": "completed"
    },
    "tags": []
   },
   "outputs": [],
   "source": [
    "def process_data(df_text):\n",
    "    tokens = df_text.apply(lambda text: tokenizer.encode(text,add_special_tokens=True))\n",
    "    max_len = 0;\n",
    "    i = 0;\n",
    "    for token in tokens.values:\n",
    "        max_len = max(max_len,len(token))\n",
    "    print(f\"Max Length: {max_len}\")\n",
    "    \n",
    "    padded = np.array([i+[0]*(max_len-len(i)) for i in tokens.values])\n",
    "    attention_mask = np.where(padded !=0, 1,0)\n",
    "    input_ids = torch.tensor(padded)\n",
    "    attention_mask = torch.tensor(attention_mask)\n",
    "    with torch.no_grad():\n",
    "        last_hidden_states = bert_model(input_ids,attention_mask=attention_mask)\n",
    "    X = last_hidden_states[0][:,0,:].numpy()\n",
    "    print(X.shape)\n",
    "    return X"
   ]
  },
  {
   "cell_type": "code",
   "execution_count": 28,
   "id": "b1e68bd3",
   "metadata": {
    "execution": {
     "iopub.execute_input": "2021-08-30T08:02:23.240949Z",
     "iopub.status.busy": "2021-08-30T08:02:23.235663Z",
     "iopub.status.idle": "2021-08-30T08:07:02.033582Z",
     "shell.execute_reply": "2021-08-30T08:07:02.034130Z",
     "shell.execute_reply.started": "2021-08-30T07:22:15.408585Z"
    },
    "papermill": {
     "duration": 278.870328,
     "end_time": "2021-08-30T08:07:02.034323",
     "exception": false,
     "start_time": "2021-08-30T08:02:23.163995",
     "status": "completed"
    },
    "tags": []
   },
   "outputs": [
    {
     "name": "stdout",
     "output_type": "stream",
     "text": [
      "Max Length: 43\n",
      "(6667, 768)\n"
     ]
    }
   ],
   "source": [
    "X_train = process_data(df_train.text)"
   ]
  },
  {
   "cell_type": "code",
   "execution_count": 29,
   "id": "f6fc0d32",
   "metadata": {
    "execution": {
     "iopub.execute_input": "2021-08-30T08:07:02.151918Z",
     "iopub.status.busy": "2021-08-30T08:07:02.151209Z",
     "iopub.status.idle": "2021-08-30T08:07:02.153809Z",
     "shell.execute_reply": "2021-08-30T08:07:02.154306Z",
     "shell.execute_reply.started": "2021-08-30T07:26:38.838131Z"
    },
    "papermill": {
     "duration": 0.06411,
     "end_time": "2021-08-30T08:07:02.154480",
     "exception": false,
     "start_time": "2021-08-30T08:07:02.090370",
     "status": "completed"
    },
    "tags": []
   },
   "outputs": [],
   "source": [
    "y_train = df_train.target"
   ]
  },
  {
   "cell_type": "code",
   "execution_count": 30,
   "id": "34f1e89d",
   "metadata": {
    "execution": {
     "iopub.execute_input": "2021-08-30T08:07:02.270730Z",
     "iopub.status.busy": "2021-08-30T08:07:02.269786Z",
     "iopub.status.idle": "2021-08-30T08:07:02.600164Z",
     "shell.execute_reply": "2021-08-30T08:07:02.600665Z",
     "shell.execute_reply.started": "2021-08-30T07:27:44.283744Z"
    },
    "papermill": {
     "duration": 0.390037,
     "end_time": "2021-08-30T08:07:02.600844",
     "exception": false,
     "start_time": "2021-08-30T08:07:02.210807",
     "status": "completed"
    },
    "tags": []
   },
   "outputs": [],
   "source": [
    "X_tr, X_val, nlp_tr, nlp_val, kw_tr, kw_val, y_tr, y_val = train_test_split(X_train,nlp_train, keyword_train, y_train, test_size=0.25, train_size=0.75,shuffle=True)"
   ]
  },
  {
   "cell_type": "markdown",
   "id": "e4aeb9d4",
   "metadata": {
    "papermill": {
     "duration": 0.056185,
     "end_time": "2021-08-30T08:07:02.714886",
     "exception": false,
     "start_time": "2021-08-30T08:07:02.658701",
     "status": "completed"
    },
    "tags": []
   },
   "source": [
    "### **Transfer Learning Model** ###"
   ]
  },
  {
   "cell_type": "code",
   "execution_count": 31,
   "id": "b68341a9",
   "metadata": {
    "execution": {
     "iopub.execute_input": "2021-08-30T08:07:02.835791Z",
     "iopub.status.busy": "2021-08-30T08:07:02.835142Z",
     "iopub.status.idle": "2021-08-30T08:07:02.838223Z",
     "shell.execute_reply": "2021-08-30T08:07:02.837716Z",
     "shell.execute_reply.started": "2021-08-30T07:28:29.438128Z"
    },
    "papermill": {
     "duration": 0.066979,
     "end_time": "2021-08-30T08:07:02.838362",
     "exception": false,
     "start_time": "2021-08-30T08:07:02.771383",
     "status": "completed"
    },
    "tags": []
   },
   "outputs": [],
   "source": [
    "def build_nn():\n",
    "    model = tf.keras.Sequential()\n",
    "    model.add(layers.Input(shape=(768,)))\n",
    "    model.add(layers.Dense(128,activation='tanh'))\n",
    "    model.add(layers.Dropout(0.6))\n",
    "    model.add(layers.Dense(32,activation='tanh'))\n",
    "    model.add(layers.Dropout(0.6))\n",
    "    model.add(layers.Dense(8,activation='tanh'))\n",
    "    model.add(layers.Dense(1,activation='sigmoid'))\n",
    "    model.compile(loss=tf.keras.losses.BinaryCrossentropy(from_logits=True),\n",
    "                      optimizer=tf.keras.optimizers.Adam(1e-4),\n",
    "                      metrics=['accuracy'])\n",
    "    return model"
   ]
  },
  {
   "cell_type": "markdown",
   "id": "a76d788b",
   "metadata": {
    "papermill": {
     "duration": 0.056702,
     "end_time": "2021-08-30T08:07:02.951493",
     "exception": false,
     "start_time": "2021-08-30T08:07:02.894791",
     "status": "completed"
    },
    "tags": []
   },
   "source": [
    "### **kFold Cross Validation** ###"
   ]
  },
  {
   "cell_type": "code",
   "execution_count": 32,
   "id": "e5c6d5d0",
   "metadata": {
    "execution": {
     "iopub.execute_input": "2021-08-30T08:07:03.072930Z",
     "iopub.status.busy": "2021-08-30T08:07:03.072266Z",
     "iopub.status.idle": "2021-08-30T08:07:03.074157Z",
     "shell.execute_reply": "2021-08-30T08:07:03.074603Z",
     "shell.execute_reply.started": "2021-08-30T07:29:28.402991Z"
    },
    "papermill": {
     "duration": 0.066591,
     "end_time": "2021-08-30T08:07:03.074764",
     "exception": false,
     "start_time": "2021-08-30T08:07:03.008173",
     "status": "completed"
    },
    "tags": []
   },
   "outputs": [],
   "source": [
    "fold = 4\n",
    "def plot_history(history):\n",
    "    plt.figure(figsize=(4*fold,4*2))\n",
    "    for i in range(fold):\n",
    "        plt.subplot(2,fold,i+1)\n",
    "        plt.plot(history_by_fold[i].history[\"loss\"])\n",
    "        plt.plot(history_by_fold[i].history[\"val_loss\"])\n",
    "        plt.xlabel(\"Epochs\")\n",
    "        plt.ylabel(\"Loss\")\n",
    "        plt.legend([\"Train\",\"Validation\"])\n",
    "\n",
    "        plt.subplot(2,fold,fold+i+1)\n",
    "        plt.plot(history_by_fold[i].history[\"accuracy\"])\n",
    "        plt.plot(history_by_fold[i].history[\"val_accuracy\"])\n",
    "        plt.xlabel(\"Epochs\")\n",
    "        plt.ylabel(\"Accuracy\")\n",
    "        plt.legend([\"Train\",\"Validation\"])"
   ]
  },
  {
   "cell_type": "code",
   "execution_count": 33,
   "id": "b1e43b83",
   "metadata": {
    "execution": {
     "iopub.execute_input": "2021-08-30T08:07:03.192191Z",
     "iopub.status.busy": "2021-08-30T08:07:03.191533Z",
     "iopub.status.idle": "2021-08-30T08:07:03.195129Z",
     "shell.execute_reply": "2021-08-30T08:07:03.195662Z",
     "shell.execute_reply.started": "2021-08-30T07:29:40.308425Z"
    },
    "papermill": {
     "duration": 0.064124,
     "end_time": "2021-08-30T08:07:03.195817",
     "exception": false,
     "start_time": "2021-08-30T08:07:03.131693",
     "status": "completed"
    },
    "tags": []
   },
   "outputs": [],
   "source": [
    "kfold = KFold(n_splits=4, shuffle=True, random_state=1)"
   ]
  },
  {
   "cell_type": "code",
   "execution_count": 34,
   "id": "cdf66440",
   "metadata": {
    "execution": {
     "iopub.execute_input": "2021-08-30T08:07:03.311137Z",
     "iopub.status.busy": "2021-08-30T08:07:03.310509Z",
     "iopub.status.idle": "2021-08-30T08:07:03.314879Z",
     "shell.execute_reply": "2021-08-30T08:07:03.315461Z",
     "shell.execute_reply.started": "2021-08-30T07:29:55.028234Z"
    },
    "papermill": {
     "duration": 0.063402,
     "end_time": "2021-08-30T08:07:03.315629",
     "exception": false,
     "start_time": "2021-08-30T08:07:03.252227",
     "status": "completed"
    },
    "tags": []
   },
   "outputs": [],
   "source": [
    "def eval_f1_score(X_val, y_val, model):\n",
    "    pred_val = (model.predict(X_val)>0.5)\n",
    "    f1 = f1_score(y_val,pred_val)\n",
    "    return f1"
   ]
  },
  {
   "cell_type": "code",
   "execution_count": 35,
   "id": "c9595c03",
   "metadata": {
    "execution": {
     "iopub.execute_input": "2021-08-30T08:07:03.437816Z",
     "iopub.status.busy": "2021-08-30T08:07:03.437225Z",
     "iopub.status.idle": "2021-08-30T08:07:03.440490Z",
     "shell.execute_reply": "2021-08-30T08:07:03.441091Z",
     "shell.execute_reply.started": "2021-08-30T07:30:08.368756Z"
    },
    "papermill": {
     "duration": 0.069235,
     "end_time": "2021-08-30T08:07:03.441282",
     "exception": false,
     "start_time": "2021-08-30T08:07:03.372047",
     "status": "completed"
    },
    "tags": []
   },
   "outputs": [],
   "source": [
    "EPOCHS = 100\n",
    "BATCH_SIZE = 64"
   ]
  },
  {
   "cell_type": "code",
   "execution_count": 36,
   "id": "a994053b",
   "metadata": {
    "execution": {
     "iopub.execute_input": "2021-08-30T08:07:03.631058Z",
     "iopub.status.busy": "2021-08-30T08:07:03.630454Z",
     "iopub.status.idle": "2021-08-30T08:08:50.329994Z",
     "shell.execute_reply": "2021-08-30T08:08:50.329458Z",
     "shell.execute_reply.started": "2021-08-30T07:30:42.009728Z"
    },
    "papermill": {
     "duration": 106.815093,
     "end_time": "2021-08-30T08:08:50.330163",
     "exception": false,
     "start_time": "2021-08-30T08:07:03.515070",
     "status": "completed"
    },
    "tags": []
   },
   "outputs": [
    {
     "name": "stdout",
     "output_type": "stream",
     "text": [
      "-- Fold 0 -- \n",
      "loss: 0.4570494592189789\n",
      "accuracy: 0.8068386316299438\n",
      "F1 Score: 0.7436305732484076\n",
      "-- Fold 1 -- \n",
      "loss: 0.4456479549407959\n",
      "accuracy: 0.8074384927749634\n",
      "F1 Score: 0.7478397486252946\n",
      "-- Fold 2 -- \n",
      "loss: 0.45003044605255127\n",
      "accuracy: 0.8116376996040344\n",
      "F1 Score: 0.7515822784810126\n",
      "-- Fold 3 -- \n",
      "loss: 0.4345151484012604\n",
      "accuracy: 0.8211284279823303\n",
      "F1 Score: 0.7608346709470305\n",
      "0.811760812997818 +\\- 0.005715717123269271\n"
     ]
    },
    {
     "data": {
      "image/png": "[encoded data removed]",
      "text/plain": [
       "<Figure size 1152x576 with 8 Axes>"
      ]
     },
     "metadata": {},
     "output_type": "display_data"
    }
   ],
   "source": [
    "fold = 0\n",
    "history_by_fold = []\n",
    "cv_results = []\n",
    "for train,val in kfold.split(X_train,y_train):\n",
    "    nn_model = build_nn()\n",
    "    history = nn_model.fit(X_train[train],y_train[train],\n",
    "                          validation_data=(X_train[val],y_train[val]),\n",
    "                          epochs=EPOCHS, batch_size=BATCH_SIZE, verbose=0)\n",
    "    scores = nn_model.evaluate(X_train[val],y_train[val],verbose=0)\n",
    "    print(f\"-- Fold {fold} -- \")\n",
    "    print(f\"{nn_model.metrics_names[0]}: {scores[0]}\")\n",
    "    print(f\"{nn_model.metrics_names[1]}: {scores[1]}\")\n",
    "    print(f\"F1 Score: {eval_f1_score(X_train[val],y_train[val],nn_model)}\")\n",
    "\n",
    "    cv_results.append(scores[1])\n",
    "    history_by_fold.append(history)\n",
    "    fold+=1\n",
    "print(f\"{np.mean(cv_results)} +\\- {np.std(cv_results)}\")\n",
    "plot_history(history)"
   ]
  },
  {
   "cell_type": "markdown",
   "id": "f19a7a41",
   "metadata": {
    "papermill": {
     "duration": 0.060703,
     "end_time": "2021-08-30T08:08:50.452829",
     "exception": false,
     "start_time": "2021-08-30T08:08:50.392126",
     "status": "completed"
    },
    "tags": []
   },
   "source": [
    "### **Training** ###"
   ]
  },
  {
   "cell_type": "code",
   "execution_count": 37,
   "id": "90cffc85",
   "metadata": {
    "execution": {
     "iopub.execute_input": "2021-08-30T08:08:50.583401Z",
     "iopub.status.busy": "2021-08-30T08:08:50.582661Z",
     "iopub.status.idle": "2021-08-30T08:09:16.754757Z",
     "shell.execute_reply": "2021-08-30T08:09:16.755221Z",
     "shell.execute_reply.started": "2021-08-30T07:35:37.418959Z"
    },
    "papermill": {
     "duration": 26.24178,
     "end_time": "2021-08-30T08:09:16.755408",
     "exception": false,
     "start_time": "2021-08-30T08:08:50.513628",
     "status": "completed"
    },
    "tags": []
   },
   "outputs": [
    {
     "name": "stdout",
     "output_type": "stream",
     "text": [
      "Accuracy: 0.809838056564331\n",
      "F1 Score: 0.7416462917685411\n"
     ]
    }
   ],
   "source": [
    "nn_model = build_nn()\n",
    "history = nn_model.fit(X_tr,y_tr, validation_data=(X_val,y_val),\n",
    "                      epochs=EPOCHS, batch_size=BATCH_SIZE,verbose=0)\n",
    "scores= nn_model.evaluate(X_val,y_val,verbose=0)\n",
    "print(f\"Accuracy: {scores[1]}\")\n",
    "print(f\"F1 Score: {eval_f1_score(X_val,y_val,nn_model)}\")"
   ]
  },
  {
   "cell_type": "code",
   "execution_count": 38,
   "id": "0ec89d55",
   "metadata": {
    "execution": {
     "iopub.execute_input": "2021-08-30T08:09:16.904629Z",
     "iopub.status.busy": "2021-08-30T08:09:16.900483Z",
     "iopub.status.idle": "2021-08-30T08:09:17.495407Z",
     "shell.execute_reply": "2021-08-30T08:09:17.494865Z",
     "shell.execute_reply.started": "2021-08-30T07:36:07.874109Z"
    },
    "papermill": {
     "duration": 0.678384,
     "end_time": "2021-08-30T08:09:17.495540",
     "exception": false,
     "start_time": "2021-08-30T08:09:16.817156",
     "status": "completed"
    },
    "tags": []
   },
   "outputs": [
    {
     "data": {
      "text/plain": [
       "Text(0, 0.5, 'Accuracy')"
      ]
     },
     "execution_count": 38,
     "metadata": {},
     "output_type": "execute_result"
    },
    {
     "data": {
      "image/png": "[encoded data removed]",
      "text/plain": [
       "<Figure size 864x432 with 2 Axes>"
      ]
     },
     "metadata": {},
     "output_type": "display_data"
    }
   ],
   "source": [
    "plt.figure(figsize=(12,6))\n",
    "plt.subplot(1,2,1)\n",
    "plt.plot(history.history[\"loss\"])\n",
    "plt.plot(history.history[\"val_loss\"])\n",
    "plt.legend([\"Train\",\"Validation\"])\n",
    "plt.xlabel(\"Epochs\")\n",
    "plt.ylabel(\"Loss\")\n",
    "\n",
    "plt.subplot(1,2,2)\n",
    "plt.plot(history.history[\"accuracy\"])\n",
    "plt.plot(history.history[\"val_accuracy\"])\n",
    "plt.legend([\"Train\",\"Validation\"])\n",
    "plt.xlabel(\"Epochs\")\n",
    "plt.ylabel(\"Accuracy\")"
   ]
  },
  {
   "cell_type": "markdown",
   "id": "e09353eb",
   "metadata": {
    "papermill": {
     "duration": 0.063979,
     "end_time": "2021-08-30T08:09:17.624413",
     "exception": false,
     "start_time": "2021-08-30T08:09:17.560434",
     "status": "completed"
    },
    "tags": []
   },
   "source": [
    "### **Recurrent Network with Long Short-Term Memory Cells** ###"
   ]
  },
  {
   "cell_type": "code",
   "execution_count": 39,
   "id": "48c259a2",
   "metadata": {
    "execution": {
     "iopub.execute_input": "2021-08-30T08:09:17.761563Z",
     "iopub.status.busy": "2021-08-30T08:09:17.760842Z",
     "iopub.status.idle": "2021-08-30T08:09:17.763857Z",
     "shell.execute_reply": "2021-08-30T08:09:17.763380Z",
     "shell.execute_reply.started": "2021-08-30T07:36:53.839438Z"
    },
    "papermill": {
     "duration": 0.074208,
     "end_time": "2021-08-30T08:09:17.763996",
     "exception": false,
     "start_time": "2021-08-30T08:09:17.689788",
     "status": "completed"
    },
    "tags": []
   },
   "outputs": [],
   "source": [
    "def build_LSTM():\n",
    "    lstm_model = tf.keras.Sequential()\n",
    "    lstm_model.add(layers.Input(shape=(None,300)))\n",
    "    lstm_model.add(layers.LSTM(16)) \n",
    "    lstm_model.add(layers.Dense(8, activation=\"tanh\"))\n",
    "    lstm_model.add(layers.Dense(8, activation=\"tanh\"))\n",
    "    lstm_model.add(layers.Dense(1,activation=\"sigmoid\"))\n",
    "\n",
    "    lstm_model.compile(loss=tf.keras.losses.BinaryCrossentropy(from_logits=True),\n",
    "                      optimizer=tf.keras.optimizers.Adam(5e-5),\n",
    "                      metrics=['accuracy'])\n",
    "    return lstm_model\n"
   ]
  },
  {
   "cell_type": "code",
   "execution_count": 40,
   "id": "cad6ea14",
   "metadata": {
    "execution": {
     "iopub.execute_input": "2021-08-30T08:09:17.896435Z",
     "iopub.status.busy": "2021-08-30T08:09:17.895620Z",
     "iopub.status.idle": "2021-08-30T08:09:17.899499Z",
     "shell.execute_reply": "2021-08-30T08:09:17.898839Z",
     "shell.execute_reply.started": "2021-08-30T07:37:06.884558Z"
    },
    "papermill": {
     "duration": 0.071857,
     "end_time": "2021-08-30T08:09:17.899648",
     "exception": false,
     "start_time": "2021-08-30T08:09:17.827791",
     "status": "completed"
    },
    "tags": []
   },
   "outputs": [],
   "source": [
    "EPOCHS =  30;\n",
    "BATCH_SIZE = 64;"
   ]
  },
  {
   "cell_type": "code",
   "execution_count": 41,
   "id": "e989f124",
   "metadata": {
    "execution": {
     "iopub.execute_input": "2021-08-30T08:09:18.034425Z",
     "iopub.status.busy": "2021-08-30T08:09:18.033648Z",
     "iopub.status.idle": "2021-08-30T08:09:18.037910Z",
     "shell.execute_reply": "2021-08-30T08:09:18.037419Z",
     "shell.execute_reply.started": "2021-08-30T07:37:16.703378Z"
    },
    "papermill": {
     "duration": 0.073576,
     "end_time": "2021-08-30T08:09:18.038046",
     "exception": false,
     "start_time": "2021-08-30T08:09:17.964470",
     "status": "completed"
    },
    "tags": []
   },
   "outputs": [],
   "source": [
    "kfold = KFold(n_splits=4, shuffle=True, random_state=1)"
   ]
  },
  {
   "cell_type": "code",
   "execution_count": 42,
   "id": "830911e5",
   "metadata": {
    "execution": {
     "iopub.execute_input": "2021-08-30T08:09:18.176236Z",
     "iopub.status.busy": "2021-08-30T08:09:18.175236Z",
     "iopub.status.idle": "2021-08-30T08:12:31.074802Z",
     "shell.execute_reply": "2021-08-30T08:12:31.075286Z",
     "shell.execute_reply.started": "2021-08-30T07:37:51.508943Z"
    },
    "papermill": {
     "duration": 192.972958,
     "end_time": "2021-08-30T08:12:31.075472",
     "exception": false,
     "start_time": "2021-08-30T08:09:18.102514",
     "status": "completed"
    },
    "tags": []
   },
   "outputs": [
    {
     "name": "stdout",
     "output_type": "stream",
     "text": [
      "-- Fold0 --\n",
      "loss: 0.4525057077407837\n",
      "accuracy: 0.804439127445221\n",
      "F1 Score: 0.7412698412698413\n",
      "-- Fold1 --\n",
      "loss: 0.4653279781341553\n",
      "accuracy: 0.7990401983261108\n",
      "F1 Score: 0.7388932190179267\n",
      "-- Fold2 --\n",
      "loss: 0.4729437530040741\n",
      "accuracy: 0.797840416431427\n",
      "F1 Score: 0.7385570209464701\n",
      "-- Fold3 --\n",
      "loss: 0.4617999792098999\n",
      "accuracy: 0.7995198369026184\n",
      "F1 Score: 0.7477341389728097\n",
      "0.8002098947763443 +\\- 0.002517201136644893\n"
     ]
    }
   ],
   "source": [
    "fold = 0\n",
    "history_by_fold = []\n",
    "cv_results = []\n",
    "for train, val in kfold.split(nlp_train,y_train):\n",
    "    lstm_model = build_LSTM()\n",
    "    history = lstm_model.fit(nlp_train[train],y_train[train],\n",
    "                            validation_data=(nlp_train[val],y_train[val]),\n",
    "                            epochs=EPOCHS,batch_size=BATCH_SIZE,verbose=0)\n",
    "    scores = lstm_model.evaluate(nlp_train[val],y_train[val],verbose=0)\n",
    "    \n",
    "    #df_test[f\"Fold{fold}\"] = lstm_model.predict(X_test)\n",
    "    #df_train[f\"Fold{fold}\"] = lstm_model.predict(X_train)\n",
    "    print(f\"-- Fold{fold} --\")\n",
    "    print(f\"{lstm_model.metrics_names[0]}: {scores[0]}\")\n",
    "    print(f\"{lstm_model.metrics_names[1]}: {scores[1]}\")\n",
    "    print(f\"F1 Score: {eval_f1_score(nlp_train[val],y_train[val],lstm_model)}\")\n",
    "\n",
    "    cv_results.append(scores[1])\n",
    "    history_by_fold.append(history)\n",
    "    fold+=1\n",
    "print(f\"{np.mean(cv_results)} +\\- {np.std(cv_results)}\")"
   ]
  },
  {
   "cell_type": "code",
   "execution_count": 43,
   "id": "14f99195",
   "metadata": {
    "execution": {
     "iopub.execute_input": "2021-08-30T08:12:31.226692Z",
     "iopub.status.busy": "2021-08-30T08:12:31.225518Z",
     "iopub.status.idle": "2021-08-30T08:12:32.440251Z",
     "shell.execute_reply": "2021-08-30T08:12:32.440762Z",
     "shell.execute_reply.started": "2021-08-30T07:41:46.213763Z"
    },
    "papermill": {
     "duration": 1.298409,
     "end_time": "2021-08-30T08:12:32.440929",
     "exception": false,
     "start_time": "2021-08-30T08:12:31.142520",
     "status": "completed"
    },
    "tags": []
   },
   "outputs": [
    {
     "data": {
      "image/png": "[encoded data removed]",
      "text/plain": [
       "<Figure size 1152x576 with 8 Axes>"
      ]
     },
     "metadata": {},
     "output_type": "display_data"
    }
   ],
   "source": [
    "plt.figure(figsize=(4*fold,4*2))\n",
    "for i in range(fold):\n",
    "    plt.subplot(2,fold,i+1)\n",
    "    plt.plot(history_by_fold[i].history[\"loss\"])\n",
    "    plt.plot(history_by_fold[i].history[\"val_loss\"])\n",
    "    plt.xlabel(\"Epochs\")\n",
    "    plt.ylabel(\"Loss\")\n",
    "    plt.legend([\"Train\",\"Validation\"])\n",
    "\n",
    "    plt.subplot(2,fold,fold+i+1)\n",
    "    plt.plot(history_by_fold[i].history[\"accuracy\"])\n",
    "    plt.plot(history_by_fold[i].history[\"val_accuracy\"])\n",
    "    plt.xlabel(\"Epochs\")\n",
    "    plt.ylabel(\"Accuracy\")\n",
    "    plt.legend([\"Train\",\"Validation\"])"
   ]
  },
  {
   "cell_type": "code",
   "execution_count": 44,
   "id": "81f26706",
   "metadata": {
    "execution": {
     "iopub.execute_input": "2021-08-30T08:12:32.595873Z",
     "iopub.status.busy": "2021-08-30T08:12:32.593745Z",
     "iopub.status.idle": "2021-08-30T08:13:18.765439Z",
     "shell.execute_reply": "2021-08-30T08:13:18.764622Z",
     "shell.execute_reply.started": "2021-08-30T07:42:06.903826Z"
    },
    "papermill": {
     "duration": 46.254278,
     "end_time": "2021-08-30T08:13:18.765595",
     "exception": false,
     "start_time": "2021-08-30T08:12:32.511317",
     "status": "completed"
    },
    "tags": []
   },
   "outputs": [
    {
     "name": "stdout",
     "output_type": "stream",
     "text": [
      "Epoch 1/30\n",
      "79/79 [==============================] - 4s 27ms/step - loss: 0.6924 - accuracy: 0.5496 - val_loss: 0.6899 - val_accuracy: 0.5849\n",
      "Epoch 2/30\n",
      "79/79 [==============================] - 1s 19ms/step - loss: 0.6890 - accuracy: 0.5873 - val_loss: 0.6862 - val_accuracy: 0.5849\n",
      "Epoch 3/30\n",
      "79/79 [==============================] - 1s 18ms/step - loss: 0.6837 - accuracy: 0.5983 - val_loss: 0.6815 - val_accuracy: 0.5849\n",
      "Epoch 4/30\n",
      "79/79 [==============================] - 1s 18ms/step - loss: 0.6790 - accuracy: 0.5933 - val_loss: 0.6749 - val_accuracy: 0.5849\n",
      "Epoch 5/30\n",
      "79/79 [==============================] - 1s 18ms/step - loss: 0.6689 - accuracy: 0.5980 - val_loss: 0.6651 - val_accuracy: 0.5849\n",
      "Epoch 6/30\n",
      "79/79 [==============================] - 1s 19ms/step - loss: 0.6579 - accuracy: 0.5964 - val_loss: 0.6470 - val_accuracy: 0.5981\n",
      "Epoch 7/30\n",
      "79/79 [==============================] - 2s 20ms/step - loss: 0.6293 - accuracy: 0.6312 - val_loss: 0.6179 - val_accuracy: 0.6755\n",
      "Epoch 8/30\n",
      "79/79 [==============================] - 1s 18ms/step - loss: 0.6019 - accuracy: 0.7141 - val_loss: 0.5863 - val_accuracy: 0.7487\n",
      "Epoch 9/30\n",
      "79/79 [==============================] - 1s 18ms/step - loss: 0.5753 - accuracy: 0.7710 - val_loss: 0.5615 - val_accuracy: 0.7708\n",
      "Epoch 10/30\n",
      "79/79 [==============================] - 1s 18ms/step - loss: 0.5422 - accuracy: 0.7899 - val_loss: 0.5437 - val_accuracy: 0.7708\n",
      "Epoch 11/30\n",
      "79/79 [==============================] - 1s 18ms/step - loss: 0.5279 - accuracy: 0.7883 - val_loss: 0.5293 - val_accuracy: 0.7756\n",
      "Epoch 12/30\n",
      "79/79 [==============================] - 1s 17ms/step - loss: 0.5030 - accuracy: 0.7969 - val_loss: 0.5190 - val_accuracy: 0.7780\n",
      "Epoch 13/30\n",
      "79/79 [==============================] - 1s 18ms/step - loss: 0.5046 - accuracy: 0.7875 - val_loss: 0.5073 - val_accuracy: 0.7852\n",
      "Epoch 14/30\n",
      "79/79 [==============================] - 1s 19ms/step - loss: 0.4927 - accuracy: 0.7903 - val_loss: 0.5013 - val_accuracy: 0.7876\n",
      "Epoch 15/30\n",
      "79/79 [==============================] - 1s 18ms/step - loss: 0.4793 - accuracy: 0.8017 - val_loss: 0.4970 - val_accuracy: 0.7900\n",
      "Epoch 16/30\n",
      "79/79 [==============================] - 1s 18ms/step - loss: 0.4817 - accuracy: 0.8009 - val_loss: 0.4935 - val_accuracy: 0.7912\n",
      "Epoch 17/30\n",
      "79/79 [==============================] - 1s 18ms/step - loss: 0.4701 - accuracy: 0.8057 - val_loss: 0.4908 - val_accuracy: 0.7912\n",
      "Epoch 18/30\n",
      "79/79 [==============================] - 1s 18ms/step - loss: 0.4570 - accuracy: 0.8171 - val_loss: 0.4878 - val_accuracy: 0.7930\n",
      "Epoch 19/30\n",
      "79/79 [==============================] - 1s 18ms/step - loss: 0.4680 - accuracy: 0.8049 - val_loss: 0.4855 - val_accuracy: 0.7936\n",
      "Epoch 20/30\n",
      "79/79 [==============================] - 1s 17ms/step - loss: 0.4651 - accuracy: 0.8089 - val_loss: 0.4833 - val_accuracy: 0.7912\n",
      "Epoch 21/30\n",
      "79/79 [==============================] - 1s 18ms/step - loss: 0.4507 - accuracy: 0.8170 - val_loss: 0.4813 - val_accuracy: 0.7954\n",
      "Epoch 22/30\n",
      "79/79 [==============================] - 1s 18ms/step - loss: 0.4495 - accuracy: 0.8191 - val_loss: 0.4806 - val_accuracy: 0.7942\n",
      "Epoch 23/30\n",
      "79/79 [==============================] - 1s 17ms/step - loss: 0.4455 - accuracy: 0.8221 - val_loss: 0.4794 - val_accuracy: 0.7948\n",
      "Epoch 24/30\n",
      "79/79 [==============================] - 1s 18ms/step - loss: 0.4493 - accuracy: 0.8178 - val_loss: 0.4776 - val_accuracy: 0.7954\n",
      "Epoch 25/30\n",
      "79/79 [==============================] - 1s 18ms/step - loss: 0.4270 - accuracy: 0.8302 - val_loss: 0.4768 - val_accuracy: 0.7942\n",
      "Epoch 26/30\n",
      "79/79 [==============================] - 1s 18ms/step - loss: 0.4453 - accuracy: 0.8175 - val_loss: 0.4756 - val_accuracy: 0.7948\n",
      "Epoch 27/30\n",
      "79/79 [==============================] - 1s 18ms/step - loss: 0.4502 - accuracy: 0.8192 - val_loss: 0.4752 - val_accuracy: 0.7972\n",
      "Epoch 28/30\n",
      "79/79 [==============================] - 1s 18ms/step - loss: 0.4372 - accuracy: 0.8240 - val_loss: 0.4744 - val_accuracy: 0.7978\n",
      "Epoch 29/30\n",
      "79/79 [==============================] - 2s 20ms/step - loss: 0.4408 - accuracy: 0.8226 - val_loss: 0.4739 - val_accuracy: 0.7990\n",
      "Epoch 30/30\n",
      "79/79 [==============================] - 1s 18ms/step - loss: 0.4324 - accuracy: 0.8292 - val_loss: 0.4730 - val_accuracy: 0.7972\n"
     ]
    }
   ],
   "source": [
    "lstm_model = build_LSTM()\n",
    "history = lstm_model.fit(nlp_tr,y_tr,validation_data=(nlp_val,y_val), epochs=EPOCHS, batch_size=BATCH_SIZE)"
   ]
  },
  {
   "cell_type": "code",
   "execution_count": 45,
   "id": "9f74ed33",
   "metadata": {
    "execution": {
     "iopub.execute_input": "2021-08-30T08:13:19.303871Z",
     "iopub.status.busy": "2021-08-30T08:13:19.302790Z",
     "iopub.status.idle": "2021-08-30T08:13:19.988622Z",
     "shell.execute_reply": "2021-08-30T08:13:19.989186Z",
     "shell.execute_reply.started": "2021-08-30T07:43:12.109648Z"
    },
    "papermill": {
     "duration": 0.957809,
     "end_time": "2021-08-30T08:13:19.989377",
     "exception": false,
     "start_time": "2021-08-30T08:13:19.031568",
     "status": "completed"
    },
    "tags": []
   },
   "outputs": [
    {
     "name": "stdout",
     "output_type": "stream",
     "text": [
      " F1 Score: 0.7419847328244275\n"
     ]
    }
   ],
   "source": [
    "valid_predict  = (lstm_model.predict(nlp_val) > 0.5)\n",
    "f1 = f1_score(y_val, valid_predict)\n",
    "print(f\" F1 Score: {f1}\")"
   ]
  },
  {
   "cell_type": "code",
   "execution_count": 46,
   "id": "8c9fd7a4",
   "metadata": {
    "execution": {
     "iopub.execute_input": "2021-08-30T08:13:20.547729Z",
     "iopub.status.busy": "2021-08-30T08:13:20.545296Z",
     "iopub.status.idle": "2021-08-30T08:13:20.890802Z",
     "shell.execute_reply": "2021-08-30T08:13:20.890188Z",
     "shell.execute_reply.started": "2021-08-30T07:43:32.578856Z"
    },
    "papermill": {
     "duration": 0.635995,
     "end_time": "2021-08-30T08:13:20.890936",
     "exception": false,
     "start_time": "2021-08-30T08:13:20.254941",
     "status": "completed"
    },
    "tags": []
   },
   "outputs": [
    {
     "data": {
      "text/plain": [
       "Text(0, 0.5, 'Accuracy')"
      ]
     },
     "execution_count": 46,
     "metadata": {},
     "output_type": "execute_result"
    },
    {
     "data": {
      "image/png": "[encoded data removed]",
      "text/plain": [
       "<Figure size 864x432 with 2 Axes>"
      ]
     },
     "metadata": {},
     "output_type": "display_data"
    }
   ],
   "source": [
    "\n",
    "plt.figure(figsize=(12,6))\n",
    "plt.subplot(1,2,1)\n",
    "plt.plot(history.history[\"loss\"])\n",
    "plt.plot(history.history[\"val_loss\"])\n",
    "plt.legend([\"Train\",\"Validation\"])\n",
    "plt.xlabel(\"Epochs\")\n",
    "plt.ylabel(\"Loss\")\n",
    "\n",
    "plt.subplot(1,2,2)\n",
    "plt.plot(history.history[\"accuracy\"])\n",
    "plt.plot(history.history[\"val_accuracy\"])\n",
    "plt.legend([\"Train\",\"Validation\"])\n",
    "plt.xlabel(\"Epochs\")\n",
    "plt.ylabel(\"Accuracy\")"
   ]
  },
  {
   "cell_type": "markdown",
   "id": "2026b253",
   "metadata": {
    "papermill": {
     "duration": 0.266896,
     "end_time": "2021-08-30T08:13:21.424137",
     "exception": false,
     "start_time": "2021-08-30T08:13:21.157241",
     "status": "completed"
    },
    "tags": []
   },
   "source": [
    "### **Classification With Keywords** ###"
   ]
  },
  {
   "cell_type": "code",
   "execution_count": 47,
   "id": "a47e3678",
   "metadata": {
    "execution": {
     "iopub.execute_input": "2021-08-30T08:13:21.964450Z",
     "iopub.status.busy": "2021-08-30T08:13:21.963800Z",
     "iopub.status.idle": "2021-08-30T08:13:22.543260Z",
     "shell.execute_reply": "2021-08-30T08:13:22.544140Z",
     "shell.execute_reply.started": "2021-08-30T07:44:32.919055Z"
    },
    "papermill": {
     "duration": 0.854063,
     "end_time": "2021-08-30T08:13:22.544392",
     "exception": false,
     "start_time": "2021-08-30T08:13:21.690329",
     "status": "completed"
    },
    "tags": []
   },
   "outputs": [
    {
     "name": "stdout",
     "output_type": "stream",
     "text": [
      "Accurcay: 0.713257348530294\n",
      "F1 score: 0.6351145038167939\n"
     ]
    }
   ],
   "source": [
    "lr_keywords = LogisticRegression(max_iter=500)\n",
    "lr_keywords.fit(kw_tr,y_tr)\n",
    "val_pred = lr_keywords.predict(kw_val)\n",
    "print(f\"Accurcay: {accuracy_score(y_val, val_pred)}\")\n",
    "print(f\"F1 score: {f1_score(y_val,val_pred)}\")"
   ]
  },
  {
   "cell_type": "markdown",
   "id": "f797d9d0",
   "metadata": {
    "papermill": {
     "duration": 0.26911,
     "end_time": "2021-08-30T08:13:23.128838",
     "exception": false,
     "start_time": "2021-08-30T08:13:22.859728",
     "status": "completed"
    },
    "tags": []
   },
   "source": [
    "### **Ensembler Learning** ###"
   ]
  },
  {
   "cell_type": "code",
   "execution_count": 48,
   "id": "2a4f5ac3",
   "metadata": {
    "execution": {
     "iopub.execute_input": "2021-08-30T08:13:23.670278Z",
     "iopub.status.busy": "2021-08-30T08:13:23.669579Z",
     "iopub.status.idle": "2021-08-30T08:13:25.158408Z",
     "shell.execute_reply": "2021-08-30T08:13:25.157755Z",
     "shell.execute_reply.started": "2021-08-30T07:46:24.228804Z"
    },
    "papermill": {
     "duration": 1.762853,
     "end_time": "2021-08-30T08:13:25.158557",
     "exception": false,
     "start_time": "2021-08-30T08:13:23.395704",
     "status": "completed"
    },
    "tags": []
   },
   "outputs": [],
   "source": [
    "nn_tr_predict = nn_model.predict(X_tr)\n",
    "kw_tr_predict = lr_keywords.predict_proba(kw_tr)[:,1]\n",
    "lstm_tr_predict = lstm_model.predict(nlp_tr)\n",
    "\n",
    "nn_val_predict = nn_model.predict(X_val)\n",
    "kw_val_predict = lr_keywords.predict_proba(kw_val)[:,1]\n",
    "lstm_val_predict = lstm_model.predict(nlp_val)\n",
    "\n",
    "kw_tr_predict = kw_tr_predict.reshape((kw_tr_predict.shape[0],1))\n",
    "kw_val_predict = kw_val_predict.reshape((kw_val_predict.shape[0],1))\n",
    "\n",
    "\n",
    "concat_tr = np.concatenate((nn_tr_predict, kw_tr_predict, lstm_tr_predict), axis=1)\n",
    "concat_val = np.concatenate((nn_val_predict, kw_val_predict, lstm_val_predict), axis=1)"
   ]
  },
  {
   "cell_type": "code",
   "execution_count": 49,
   "id": "9484b646",
   "metadata": {
    "execution": {
     "iopub.execute_input": "2021-08-30T08:13:25.698358Z",
     "iopub.status.busy": "2021-08-30T08:13:25.695645Z",
     "iopub.status.idle": "2021-08-30T08:13:25.727173Z",
     "shell.execute_reply": "2021-08-30T08:13:25.728450Z",
     "shell.execute_reply.started": "2021-08-30T07:46:41.574252Z"
    },
    "papermill": {
     "duration": 0.304489,
     "end_time": "2021-08-30T08:13:25.728713",
     "exception": false,
     "start_time": "2021-08-30T08:13:25.424224",
     "status": "completed"
    },
    "tags": []
   },
   "outputs": [
    {
     "name": "stdout",
     "output_type": "stream",
     "text": [
      "Accurcay: 0.829634073185363\n",
      "F1 score: 0.7763779527559055\n"
     ]
    }
   ],
   "source": [
    "lr = LogisticRegression()\n",
    "lr.fit(concat_tr,y_tr)\n",
    "val_pred = lr.predict(concat_val)\n",
    "print(f\"Accurcay: {accuracy_score(y_val, val_pred)}\")\n",
    "print(f\"F1 score: {f1_score(y_val,val_pred)}\")"
   ]
  },
  {
   "cell_type": "markdown",
   "id": "ef3bd614",
   "metadata": {
    "papermill": {
     "duration": 0.267351,
     "end_time": "2021-08-30T08:13:26.311498",
     "exception": false,
     "start_time": "2021-08-30T08:13:26.044147",
     "status": "completed"
    },
    "tags": []
   },
   "source": [
    "## **Predicting Text** ##"
   ]
  },
  {
   "cell_type": "markdown",
   "id": "fc8e46e5",
   "metadata": {
    "papermill": {
     "duration": 0.266746,
     "end_time": "2021-08-30T08:13:26.845769",
     "exception": false,
     "start_time": "2021-08-30T08:13:26.579023",
     "status": "completed"
    },
    "tags": []
   },
   "source": [
    "### **Processing Test Data** ###"
   ]
  },
  {
   "cell_type": "code",
   "execution_count": 50,
   "id": "b79fb1fc",
   "metadata": {
    "execution": {
     "iopub.execute_input": "2021-08-30T08:13:27.415741Z",
     "iopub.status.busy": "2021-08-30T08:13:27.410585Z",
     "iopub.status.idle": "2021-08-30T08:15:39.795554Z",
     "shell.execute_reply": "2021-08-30T08:15:39.796283Z",
     "shell.execute_reply.started": "2021-08-30T07:49:03.099364Z"
    },
    "papermill": {
     "duration": 132.681432,
     "end_time": "2021-08-30T08:15:39.796514",
     "exception": false,
     "start_time": "2021-08-30T08:13:27.115082",
     "status": "completed"
    },
    "tags": []
   },
   "outputs": [
    {
     "name": "stdout",
     "output_type": "stream",
     "text": [
      "Max Length: 42\n",
      "(3263, 768)\n"
     ]
    }
   ],
   "source": [
    "X_test = process_data(df_test.text)"
   ]
  },
  {
   "cell_type": "code",
   "execution_count": 51,
   "id": "c2fb27d8",
   "metadata": {
    "execution": {
     "iopub.execute_input": "2021-08-30T08:15:40.343120Z",
     "iopub.status.busy": "2021-08-30T08:15:40.342485Z",
     "iopub.status.idle": "2021-08-30T08:16:16.457888Z",
     "shell.execute_reply": "2021-08-30T08:16:16.458401Z",
     "shell.execute_reply.started": "2021-08-30T07:51:23.838675Z"
    },
    "papermill": {
     "duration": 36.389989,
     "end_time": "2021-08-30T08:16:16.458571",
     "exception": false,
     "start_time": "2021-08-30T08:15:40.068582",
     "status": "completed"
    },
    "tags": []
   },
   "outputs": [
    {
     "name": "stdout",
     "output_type": "stream",
     "text": [
      "Maximum Length:33\n",
      "Shape of spacy vector:(3263, 33, 300)\n"
     ]
    }
   ],
   "source": [
    "nlp_test = build_nlp_vectors(df_test.text)"
   ]
  },
  {
   "cell_type": "markdown",
   "id": "5084e252",
   "metadata": {
    "papermill": {
     "duration": 0.271509,
     "end_time": "2021-08-30T08:16:16.997554",
     "exception": false,
     "start_time": "2021-08-30T08:16:16.726045",
     "status": "completed"
    },
    "tags": []
   },
   "source": [
    "### **Model Prediction** ###"
   ]
  },
  {
   "cell_type": "code",
   "execution_count": 52,
   "id": "e955e752",
   "metadata": {
    "execution": {
     "iopub.execute_input": "2021-08-30T08:16:17.542780Z",
     "iopub.status.busy": "2021-08-30T08:16:17.542074Z",
     "iopub.status.idle": "2021-08-30T08:16:18.651561Z",
     "shell.execute_reply": "2021-08-30T08:16:18.652161Z",
     "shell.execute_reply.started": "2021-08-30T07:52:36.364204Z"
    },
    "papermill": {
     "duration": 1.38412,
     "end_time": "2021-08-30T08:16:18.652455",
     "exception": false,
     "start_time": "2021-08-30T08:16:17.268335",
     "status": "completed"
    },
    "tags": []
   },
   "outputs": [],
   "source": [
    "df_test[\"nn_predict\"]= nn_model.predict(X_test)\n",
    "df_test[\"lstm_predict\"]= lstm_model.predict(nlp_test)\n",
    "df_test[\"keyword_predict\"] = lr_keywords.predict_proba(keyword_test)[:,1]\n",
    "features = [\"nn_predict\",\"keyword_predict\",\"lstm_predict\"]\n",
    "\n",
    "test_features = df_test[features]\n",
    "predict = lr.predict(test_features)"
   ]
  },
  {
   "cell_type": "code",
   "execution_count": 53,
   "id": "03eb53d1",
   "metadata": {
    "execution": {
     "iopub.execute_input": "2021-08-30T08:16:19.249088Z",
     "iopub.status.busy": "2021-08-30T08:16:19.248472Z",
     "iopub.status.idle": "2021-08-30T08:16:19.265941Z",
     "shell.execute_reply": "2021-08-30T08:16:19.266449Z",
     "shell.execute_reply.started": "2021-08-30T07:53:04.033848Z"
    },
    "papermill": {
     "duration": 0.293187,
     "end_time": "2021-08-30T08:16:19.266621",
     "exception": false,
     "start_time": "2021-08-30T08:16:18.973434",
     "status": "completed"
    },
    "tags": []
   },
   "outputs": [
    {
     "data": {
      "text/html": [
       "<div>\n",
       "<style scoped>\n",
       "    .dataframe tbody tr th:only-of-type {\n",
       "        vertical-align: middle;\n",
       "    }\n",
       "\n",
       "    .dataframe tbody tr th {\n",
       "        vertical-align: top;\n",
       "    }\n",
       "\n",
       "    .dataframe thead th {\n",
       "        text-align: right;\n",
       "    }\n",
       "</style>\n",
       "<table border=\"1\" class=\"dataframe\">\n",
       "  <thead>\n",
       "    <tr style=\"text-align: right;\">\n",
       "      <th></th>\n",
       "      <th>id</th>\n",
       "      <th>target</th>\n",
       "    </tr>\n",
       "  </thead>\n",
       "  <tbody>\n",
       "    <tr>\n",
       "      <th>0</th>\n",
       "      <td>0</td>\n",
       "      <td>1</td>\n",
       "    </tr>\n",
       "    <tr>\n",
       "      <th>1</th>\n",
       "      <td>2</td>\n",
       "      <td>0</td>\n",
       "    </tr>\n",
       "    <tr>\n",
       "      <th>2</th>\n",
       "      <td>3</td>\n",
       "      <td>1</td>\n",
       "    </tr>\n",
       "    <tr>\n",
       "      <th>3</th>\n",
       "      <td>9</td>\n",
       "      <td>0</td>\n",
       "    </tr>\n",
       "    <tr>\n",
       "      <th>4</th>\n",
       "      <td>11</td>\n",
       "      <td>1</td>\n",
       "    </tr>\n",
       "    <tr>\n",
       "      <th>...</th>\n",
       "      <td>...</td>\n",
       "      <td>...</td>\n",
       "    </tr>\n",
       "    <tr>\n",
       "      <th>3258</th>\n",
       "      <td>10861</td>\n",
       "      <td>1</td>\n",
       "    </tr>\n",
       "    <tr>\n",
       "      <th>3259</th>\n",
       "      <td>10865</td>\n",
       "      <td>1</td>\n",
       "    </tr>\n",
       "    <tr>\n",
       "      <th>3260</th>\n",
       "      <td>10868</td>\n",
       "      <td>1</td>\n",
       "    </tr>\n",
       "    <tr>\n",
       "      <th>3261</th>\n",
       "      <td>10874</td>\n",
       "      <td>1</td>\n",
       "    </tr>\n",
       "    <tr>\n",
       "      <th>3262</th>\n",
       "      <td>10875</td>\n",
       "      <td>0</td>\n",
       "    </tr>\n",
       "  </tbody>\n",
       "</table>\n",
       "<p>3263 rows × 2 columns</p>\n",
       "</div>"
      ],
      "text/plain": [
       "         id  target\n",
       "0         0       1\n",
       "1         2       0\n",
       "2         3       1\n",
       "3         9       0\n",
       "4        11       1\n",
       "...     ...     ...\n",
       "3258  10861       1\n",
       "3259  10865       1\n",
       "3260  10868       1\n",
       "3261  10874       1\n",
       "3262  10875       0\n",
       "\n",
       "[3263 rows x 2 columns]"
      ]
     },
     "execution_count": 53,
     "metadata": {},
     "output_type": "execute_result"
    }
   ],
   "source": [
    "output = pd.DataFrame({\"id\":df_test.id, \"target\":predict})\n",
    "output.to_csv(\"submission.csv\",index=False)\n",
    "output"
   ]
  }
 ],
 "metadata": {
  "kernelspec": {
   "display_name": "Python 3",
   "language": "python",
   "name": "python3"
  },
  "language_info": {
   "codemirror_mode": {
    "name": "ipython",
    "version": 3
   },
   "file_extension": ".py",
   "mimetype": "text/x-python",
   "name": "python",
   "nbconvert_exporter": "python",
   "pygments_lexer": "ipython3",
   "version": "3.7.10"
  },
  "papermill": {
   "default_parameters": {},
   "duration": 1030.284473,
   "end_time": "2021-08-30T08:16:22.868139",
   "environment_variables": {},
   "exception": null,
   "input_path": "__notebook__.ipynb",
   "output_path": "__notebook__.ipynb",
   "parameters": {},
   "start_time": "2021-08-30T07:59:12.583666",
   "version": "2.3.3"
  },
  "widgets": {
   "application/vnd.jupyter.widget-state+json": {
    "state": {
     "036bb5302a274bb780d68c0bab8837ed": {
      "model_module": "@jupyter-widgets/controls",
      "model_module_version": "1.5.0",
      "model_name": "HBoxModel",
      "state": {
       "_dom_classes": [],
       "_model_module": "@jupyter-widgets/controls",
       "_model_module_version": "1.5.0",
       "_model_name": "HBoxModel",
       "_view_count": null,
       "_view_module": "@jupyter-widgets/controls",
       "_view_module_version": "1.5.0",
       "_view_name": "HBoxView",
       "box_style": "",
       "children": [
        "IPY_MODEL_a31d69db68d8402fbf9d3962b89c4450",
        "IPY_MODEL_d6d72f41e7464598857d1a845a1f81b0",
        "IPY_MODEL_571e7e153d8a4b4bb0dc907df8f995c6"
       ],
       "layout": "IPY_MODEL_6b9e059c5eeb428588a37e6ea931f340"
      }
     },
     "087f7912689d47cb871818b283036b23": {
      "model_module": "@jupyter-widgets/controls",
      "model_module_version": "1.5.0",
      "model_name": "HTMLModel",
      "state": {
       "_dom_classes": [],
       "_model_module": "@jupyter-widgets/controls",
       "_model_module_version": "1.5.0",
       "_model_name": "HTMLModel",
       "_view_count": null,
       "_view_module": "@jupyter-widgets/controls",
       "_view_module_version": "1.5.0",
       "_view_name": "HTMLView",
       "description": "",
       "description_tooltip": null,
       "layout": "IPY_MODEL_23f890cbe5d3422592f120854950e459",
       "placeholder": "​",
       "style": "IPY_MODEL_eed95cdf42ae4beda20e2c8efa1edab3",
       "value": "Downloading: 100%"
      }
     },
     "1310f89a7c194559bd1d071d1df7b857": {
      "model_module": "@jupyter-widgets/base",
      "model_module_version": "1.2.0",
      "model_name": "LayoutModel",
      "state": {
       "_model_module": "@jupyter-widgets/base",
       "_model_module_version": "1.2.0",
       "_model_name": "LayoutModel",
       "_view_count": null,
       "_view_module": "@jupyter-widgets/base",
       "_view_module_version": "1.2.0",
       "_view_name": "LayoutView",
       "align_content": null,
       "align_items": null,
       "align_self": null,
       "border": null,
       "bottom": null,
       "display": null,
       "flex": null,
       "flex_flow": null,
       "grid_area": null,
       "grid_auto_columns": null,
       "grid_auto_flow": null,
       "grid_auto_rows": null,
       "grid_column": null,
       "grid_gap": null,
       "grid_row": null,
       "grid_template_areas": null,
       "grid_template_columns": null,
       "grid_template_rows": null,
       "height": null,
       "justify_content": null,
       "justify_items": null,
       "left": null,
       "margin": null,
       "max_height": null,
       "max_width": null,
       "min_height": null,
       "min_width": null,
       "object_fit": null,
       "object_position": null,
       "order": null,
       "overflow": null,
       "overflow_x": null,
       "overflow_y": null,
       "padding": null,
       "right": null,
       "top": null,
       "visibility": null,
       "width": null
      }
     },
     "148b5c176a0c469c914d3cac300e4186": {
      "model_module": "@jupyter-widgets/controls",
      "model_module_version": "1.5.0",
      "model_name": "DescriptionStyleModel",
      "state": {
       "_model_module": "@jupyter-widgets/controls",
       "_model_module_version": "1.5.0",
       "_model_name": "DescriptionStyleModel",
       "_view_count": null,
       "_view_module": "@jupyter-widgets/base",
       "_view_module_version": "1.2.0",
       "_view_name": "StyleView",
       "description_width": ""
      }
     },
     "157ad8533e35437b9092f575f02297c0": {
      "model_module": "@jupyter-widgets/controls",
      "model_module_version": "1.5.0",
      "model_name": "DescriptionStyleModel",
      "state": {
       "_model_module": "@jupyter-widgets/controls",
       "_model_module_version": "1.5.0",
       "_model_name": "DescriptionStyleModel",
       "_view_count": null,
       "_view_module": "@jupyter-widgets/base",
       "_view_module_version": "1.2.0",
       "_view_name": "StyleView",
       "description_width": ""
      }
     },
     "15f463a0b6db49abb3c46330d525cc93": {
      "model_module": "@jupyter-widgets/controls",
      "model_module_version": "1.5.0",
      "model_name": "HBoxModel",
      "state": {
       "_dom_classes": [],
       "_model_module": "@jupyter-widgets/controls",
       "_model_module_version": "1.5.0",
       "_model_name": "HBoxModel",
       "_view_count": null,
       "_view_module": "@jupyter-widgets/controls",
       "_view_module_version": "1.5.0",
       "_view_name": "HBoxView",
       "box_style": "",
       "children": [
        "IPY_MODEL_087f7912689d47cb871818b283036b23",
        "IPY_MODEL_2219e6454984415fa61977bffc20e2ad",
        "IPY_MODEL_a9d2f85d977a4fcda2e0b48c210f9fcb"
       ],
       "layout": "IPY_MODEL_e3a2122269a84e979a125f1708ebac5f"
      }
     },
     "17b6d14250074657a46e785b6a629524": {
      "model_module": "@jupyter-widgets/base",
      "model_module_version": "1.2.0",
      "model_name": "LayoutModel",
      "state": {
       "_model_module": "@jupyter-widgets/base",
       "_model_module_version": "1.2.0",
       "_model_name": "LayoutModel",
       "_view_count": null,
       "_view_module": "@jupyter-widgets/base",
       "_view_module_version": "1.2.0",
       "_view_name": "LayoutView",
       "align_content": null,
       "align_items": null,
       "align_self": null,
       "border": null,
       "bottom": null,
       "display": null,
       "flex": null,
       "flex_flow": null,
       "grid_area": null,
       "grid_auto_columns": null,
       "grid_auto_flow": null,
       "grid_auto_rows": null,
       "grid_column": null,
       "grid_gap": null,
       "grid_row": null,
       "grid_template_areas": null,
       "grid_template_columns": null,
       "grid_template_rows": null,
       "height": null,
       "justify_content": null,
       "justify_items": null,
       "left": null,
       "margin": null,
       "max_height": null,
       "max_width": null,
       "min_height": null,
       "min_width": null,
       "object_fit": null,
       "object_position": null,
       "order": null,
       "overflow": null,
       "overflow_x": null,
       "overflow_y": null,
       "padding": null,
       "right": null,
       "top": null,
       "visibility": null,
       "width": null
      }
     },
     "1fb428d45b084881b48323dbd5516b44": {
      "model_module": "@jupyter-widgets/controls",
      "model_module_version": "1.5.0",
      "model_name": "HTMLModel",
      "state": {
       "_dom_classes": [],
       "_model_module": "@jupyter-widgets/controls",
       "_model_module_version": "1.5.0",
       "_model_name": "HTMLModel",
       "_view_count": null,
       "_view_module": "@jupyter-widgets/controls",
       "_view_module_version": "1.5.0",
       "_view_name": "HTMLView",
       "description": "",
       "description_tooltip": null,
       "layout": "IPY_MODEL_fea387fc3cca4522952727baf0084919",
       "placeholder": "​",
       "style": "IPY_MODEL_32276b5cffcb4f9f8ec90d335be6057d",
       "value": " 268M/268M [00:06&lt;00:00, 42.7MB/s]"
      }
     },
     "2219e6454984415fa61977bffc20e2ad": {
      "model_module": "@jupyter-widgets/controls",
      "model_module_version": "1.5.0",
      "model_name": "FloatProgressModel",
      "state": {
       "_dom_classes": [],
       "_model_module": "@jupyter-widgets/controls",
       "_model_module_version": "1.5.0",
       "_model_name": "FloatProgressModel",
       "_view_count": null,
       "_view_module": "@jupyter-widgets/controls",
       "_view_module_version": "1.5.0",
       "_view_name": "ProgressView",
       "bar_style": "success",
       "description": "",
       "description_tooltip": null,
       "layout": "IPY_MODEL_378c236e4bf644e5b0b0be8b675eb7ed",
       "max": 466062.0,
       "min": 0.0,
       "orientation": "horizontal",
       "style": "IPY_MODEL_8823b4496501490d96a3574fdf2ec68b",
       "value": 466062.0
      }
     },
     "22d77584785b488396d6215f7aa6a77c": {
      "model_module": "@jupyter-widgets/controls",
      "model_module_version": "1.5.0",
      "model_name": "HTMLModel",
      "state": {
       "_dom_classes": [],
       "_model_module": "@jupyter-widgets/controls",
       "_model_module_version": "1.5.0",
       "_model_name": "HTMLModel",
       "_view_count": null,
       "_view_module": "@jupyter-widgets/controls",
       "_view_module_version": "1.5.0",
       "_view_name": "HTMLView",
       "description": "",
       "description_tooltip": null,
       "layout": "IPY_MODEL_364ff35d8c0148cfa4271a2eb3797a1a",
       "placeholder": "​",
       "style": "IPY_MODEL_7a90969b426b404bbcb1ceba63da2946",
       "value": "Downloading: 100%"
      }
     },
     "23f890cbe5d3422592f120854950e459": {
      "model_module": "@jupyter-widgets/base",
      "model_module_version": "1.2.0",
      "model_name": "LayoutModel",
      "state": {
       "_model_module": "@jupyter-widgets/base",
       "_model_module_version": "1.2.0",
       "_model_name": "LayoutModel",
       "_view_count": null,
       "_view_module": "@jupyter-widgets/base",
       "_view_module_version": "1.2.0",
       "_view_name": "LayoutView",
       "align_content": null,
       "align_items": null,
       "align_self": null,
       "border": null,
       "bottom": null,
       "display": null,
       "flex": null,
       "flex_flow": null,
       "grid_area": null,
       "grid_auto_columns": null,
       "grid_auto_flow": null,
       "grid_auto_rows": null,
       "grid_column": null,
       "grid_gap": null,
       "grid_row": null,
       "grid_template_areas": null,
       "grid_template_columns": null,
       "grid_template_rows": null,
       "height": null,
       "justify_content": null,
       "justify_items": null,
       "left": null,
       "margin": null,
       "max_height": null,
       "max_width": null,
       "min_height": null,
       "min_width": null,
       "object_fit": null,
       "object_position": null,
       "order": null,
       "overflow": null,
       "overflow_x": null,
       "overflow_y": null,
       "padding": null,
       "right": null,
       "top": null,
       "visibility": null,
       "width": null
      }
     },
     "24d131c1a53c43fba5ae73b4a536995f": {
      "model_module": "@jupyter-widgets/base",
      "model_module_version": "1.2.0",
      "model_name": "LayoutModel",
      "state": {
       "_model_module": "@jupyter-widgets/base",
       "_model_module_version": "1.2.0",
       "_model_name": "LayoutModel",
       "_view_count": null,
       "_view_module": "@jupyter-widgets/base",
       "_view_module_version": "1.2.0",
       "_view_name": "LayoutView",
       "align_content": null,
       "align_items": null,
       "align_self": null,
       "border": null,
       "bottom": null,
       "display": null,
       "flex": null,
       "flex_flow": null,
       "grid_area": null,
       "grid_auto_columns": null,
       "grid_auto_flow": null,
       "grid_auto_rows": null,
       "grid_column": null,
       "grid_gap": null,
       "grid_row": null,
       "grid_template_areas": null,
       "grid_template_columns": null,
       "grid_template_rows": null,
       "height": null,
       "justify_content": null,
       "justify_items": null,
       "left": null,
       "margin": null,
       "max_height": null,
       "max_width": null,
       "min_height": null,
       "min_width": null,
       "object_fit": null,
       "object_position": null,
       "order": null,
       "overflow": null,
       "overflow_x": null,
       "overflow_y": null,
       "padding": null,
       "right": null,
       "top": null,
       "visibility": null,
       "width": null
      }
     },
     "26fc263fdf994850a027e7673851dc2b": {
      "model_module": "@jupyter-widgets/controls",
      "model_module_version": "1.5.0",
      "model_name": "FloatProgressModel",
      "state": {
       "_dom_classes": [],
       "_model_module": "@jupyter-widgets/controls",
       "_model_module_version": "1.5.0",
       "_model_name": "FloatProgressModel",
       "_view_count": null,
       "_view_module": "@jupyter-widgets/controls",
       "_view_module_version": "1.5.0",
       "_view_name": "ProgressView",
       "bar_style": "success",
       "description": "",
       "description_tooltip": null,
       "layout": "IPY_MODEL_17b6d14250074657a46e785b6a629524",
       "max": 28.0,
       "min": 0.0,
       "orientation": "horizontal",
       "style": "IPY_MODEL_b7182a0d2ae54604847f0531d6e2f499",
       "value": 28.0
      }
     },
     "32276b5cffcb4f9f8ec90d335be6057d": {
      "model_module": "@jupyter-widgets/controls",
      "model_module_version": "1.5.0",
      "model_name": "DescriptionStyleModel",
      "state": {
       "_model_module": "@jupyter-widgets/controls",
       "_model_module_version": "1.5.0",
       "_model_name": "DescriptionStyleModel",
       "_view_count": null,
       "_view_module": "@jupyter-widgets/base",
       "_view_module_version": "1.2.0",
       "_view_name": "StyleView",
       "description_width": ""
      }
     },
     "364ff35d8c0148cfa4271a2eb3797a1a": {
      "model_module": "@jupyter-widgets/base",
      "model_module_version": "1.2.0",
      "model_name": "LayoutModel",
      "state": {
       "_model_module": "@jupyter-widgets/base",
       "_model_module_version": "1.2.0",
       "_model_name": "LayoutModel",
       "_view_count": null,
       "_view_module": "@jupyter-widgets/base",
       "_view_module_version": "1.2.0",
       "_view_name": "LayoutView",
       "align_content": null,
       "align_items": null,
       "align_self": null,
       "border": null,
       "bottom": null,
       "display": null,
       "flex": null,
       "flex_flow": null,
       "grid_area": null,
       "grid_auto_columns": null,
       "grid_auto_flow": null,
       "grid_auto_rows": null,
       "grid_column": null,
       "grid_gap": null,
       "grid_row": null,
       "grid_template_areas": null,
       "grid_template_columns": null,
       "grid_template_rows": null,
       "height": null,
       "justify_content": null,
       "justify_items": null,
       "left": null,
       "margin": null,
       "max_height": null,
       "max_width": null,
       "min_height": null,
       "min_width": null,
       "object_fit": null,
       "object_position": null,
       "order": null,
       "overflow": null,
       "overflow_x": null,
       "overflow_y": null,
       "padding": null,
       "right": null,
       "top": null,
       "visibility": null,
       "width": null
      }
     },
     "378c236e4bf644e5b0b0be8b675eb7ed": {
      "model_module": "@jupyter-widgets/base",
      "model_module_version": "1.2.0",
      "model_name": "LayoutModel",
      "state": {
       "_model_module": "@jupyter-widgets/base",
       "_model_module_version": "1.2.0",
       "_model_name": "LayoutModel",
       "_view_count": null,
       "_view_module": "@jupyter-widgets/base",
       "_view_module_version": "1.2.0",
       "_view_name": "LayoutView",
       "align_content": null,
       "align_items": null,
       "align_self": null,
       "border": null,
       "bottom": null,
       "display": null,
       "flex": null,
       "flex_flow": null,
       "grid_area": null,
       "grid_auto_columns": null,
       "grid_auto_flow": null,
       "grid_auto_rows": null,
       "grid_column": null,
       "grid_gap": null,
       "grid_row": null,
       "grid_template_areas": null,
       "grid_template_columns": null,
       "grid_template_rows": null,
       "height": null,
       "justify_content": null,
       "justify_items": null,
       "left": null,
       "margin": null,
       "max_height": null,
       "max_width": null,
       "min_height": null,
       "min_width": null,
       "object_fit": null,
       "object_position": null,
       "order": null,
       "overflow": null,
       "overflow_x": null,
       "overflow_y": null,
       "padding": null,
       "right": null,
       "top": null,
       "visibility": null,
       "width": null
      }
     },
     "432533db8a6745f880f5b8cc95cc205b": {
      "model_module": "@jupyter-widgets/controls",
      "model_module_version": "1.5.0",
      "model_name": "HTMLModel",
      "state": {
       "_dom_classes": [],
       "_model_module": "@jupyter-widgets/controls",
       "_model_module_version": "1.5.0",
       "_model_name": "HTMLModel",
       "_view_count": null,
       "_view_module": "@jupyter-widgets/controls",
       "_view_module_version": "1.5.0",
       "_view_name": "HTMLView",
       "description": "",
       "description_tooltip": null,
       "layout": "IPY_MODEL_6ffd6508d7994c068225a245dbf256a9",
       "placeholder": "​",
       "style": "IPY_MODEL_6a930b3d01bc4d9f9b0412eb5af13ca0",
       "value": " 28.0/28.0 [00:00&lt;00:00, 900B/s]"
      }
     },
     "436c578e7b6441bca6a56c9ae64eb445": {
      "model_module": "@jupyter-widgets/controls",
      "model_module_version": "1.5.0",
      "model_name": "HTMLModel",
      "state": {
       "_dom_classes": [],
       "_model_module": "@jupyter-widgets/controls",
       "_model_module_version": "1.5.0",
       "_model_name": "HTMLModel",
       "_view_count": null,
       "_view_module": "@jupyter-widgets/controls",
       "_view_module_version": "1.5.0",
       "_view_name": "HTMLView",
       "description": "",
       "description_tooltip": null,
       "layout": "IPY_MODEL_913159924f724877afb437452247b2da",
       "placeholder": "​",
       "style": "IPY_MODEL_157ad8533e35437b9092f575f02297c0",
       "value": "Downloading: 100%"
      }
     },
     "47a07d6a99514bb09c264b5d7459985d": {
      "model_module": "@jupyter-widgets/controls",
      "model_module_version": "1.5.0",
      "model_name": "HTMLModel",
      "state": {
       "_dom_classes": [],
       "_model_module": "@jupyter-widgets/controls",
       "_model_module_version": "1.5.0",
       "_model_name": "HTMLModel",
       "_view_count": null,
       "_view_module": "@jupyter-widgets/controls",
       "_view_module_version": "1.5.0",
       "_view_name": "HTMLView",
       "description": "",
       "description_tooltip": null,
       "layout": "IPY_MODEL_a250c74b9f4a4e7b85549996819380eb",
       "placeholder": "​",
       "style": "IPY_MODEL_dd1082d0abb6409aaa29343a0519b67c",
       "value": "Downloading: 100%"
      }
     },
     "4951c87061f048569d4ad705d327789d": {
      "model_module": "@jupyter-widgets/controls",
      "model_module_version": "1.5.0",
      "model_name": "HBoxModel",
      "state": {
       "_dom_classes": [],
       "_model_module": "@jupyter-widgets/controls",
       "_model_module_version": "1.5.0",
       "_model_name": "HBoxModel",
       "_view_count": null,
       "_view_module": "@jupyter-widgets/controls",
       "_view_module_version": "1.5.0",
       "_view_name": "HBoxView",
       "box_style": "",
       "children": [
        "IPY_MODEL_436c578e7b6441bca6a56c9ae64eb445",
        "IPY_MODEL_b54d6a38562a4a63ae9df62edc3876bb",
        "IPY_MODEL_1fb428d45b084881b48323dbd5516b44"
       ],
       "layout": "IPY_MODEL_fefeacf0a6cc4771a36c9b3c51f70deb"
      }
     },
     "571e7e153d8a4b4bb0dc907df8f995c6": {
      "model_module": "@jupyter-widgets/controls",
      "model_module_version": "1.5.0",
      "model_name": "HTMLModel",
      "state": {
       "_dom_classes": [],
       "_model_module": "@jupyter-widgets/controls",
       "_model_module_version": "1.5.0",
       "_model_name": "HTMLModel",
       "_view_count": null,
       "_view_module": "@jupyter-widgets/controls",
       "_view_module_version": "1.5.0",
       "_view_name": "HTMLView",
       "description": "",
       "description_tooltip": null,
       "layout": "IPY_MODEL_9a069849544b441da1130645f1af6260",
       "placeholder": "​",
       "style": "IPY_MODEL_148b5c176a0c469c914d3cac300e4186",
       "value": " 483/483 [00:00&lt;00:00, 15.8kB/s]"
      }
     },
     "5a77fc2a9b7641eea5d245ac0da55e58": {
      "model_module": "@jupyter-widgets/controls",
      "model_module_version": "1.5.0",
      "model_name": "ProgressStyleModel",
      "state": {
       "_model_module": "@jupyter-widgets/controls",
       "_model_module_version": "1.5.0",
       "_model_name": "ProgressStyleModel",
       "_view_count": null,
       "_view_module": "@jupyter-widgets/base",
       "_view_module_version": "1.2.0",
       "_view_name": "StyleView",
       "bar_color": null,
       "description_width": ""
      }
     },
     "5dbb1f9b95704cfd8a54c3cb630424ee": {
      "model_module": "@jupyter-widgets/controls",
      "model_module_version": "1.5.0",
      "model_name": "DescriptionStyleModel",
      "state": {
       "_model_module": "@jupyter-widgets/controls",
       "_model_module_version": "1.5.0",
       "_model_name": "DescriptionStyleModel",
       "_view_count": null,
       "_view_module": "@jupyter-widgets/base",
       "_view_module_version": "1.2.0",
       "_view_name": "StyleView",
       "description_width": ""
      }
     },
     "6a930b3d01bc4d9f9b0412eb5af13ca0": {
      "model_module": "@jupyter-widgets/controls",
      "model_module_version": "1.5.0",
      "model_name": "DescriptionStyleModel",
      "state": {
       "_model_module": "@jupyter-widgets/controls",
       "_model_module_version": "1.5.0",
       "_model_name": "DescriptionStyleModel",
       "_view_count": null,
       "_view_module": "@jupyter-widgets/base",
       "_view_module_version": "1.2.0",
       "_view_name": "StyleView",
       "description_width": ""
      }
     },
     "6b9e059c5eeb428588a37e6ea931f340": {
      "model_module": "@jupyter-widgets/base",
      "model_module_version": "1.2.0",
      "model_name": "LayoutModel",
      "state": {
       "_model_module": "@jupyter-widgets/base",
       "_model_module_version": "1.2.0",
       "_model_name": "LayoutModel",
       "_view_count": null,
       "_view_module": "@jupyter-widgets/base",
       "_view_module_version": "1.2.0",
       "_view_name": "LayoutView",
       "align_content": null,
       "align_items": null,
       "align_self": null,
       "border": null,
       "bottom": null,
       "display": null,
       "flex": null,
       "flex_flow": null,
       "grid_area": null,
       "grid_auto_columns": null,
       "grid_auto_flow": null,
       "grid_auto_rows": null,
       "grid_column": null,
       "grid_gap": null,
       "grid_row": null,
       "grid_template_areas": null,
       "grid_template_columns": null,
       "grid_template_rows": null,
       "height": null,
       "justify_content": null,
       "justify_items": null,
       "left": null,
       "margin": null,
       "max_height": null,
       "max_width": null,
       "min_height": null,
       "min_width": null,
       "object_fit": null,
       "object_position": null,
       "order": null,
       "overflow": null,
       "overflow_x": null,
       "overflow_y": null,
       "padding": null,
       "right": null,
       "top": null,
       "visibility": null,
       "width": null
      }
     },
     "6f528edf7a054b6e91f3bedc48161a75": {
      "model_module": "@jupyter-widgets/controls",
      "model_module_version": "1.5.0",
      "model_name": "ProgressStyleModel",
      "state": {
       "_model_module": "@jupyter-widgets/controls",
       "_model_module_version": "1.5.0",
       "_model_name": "ProgressStyleModel",
       "_view_count": null,
       "_view_module": "@jupyter-widgets/base",
       "_view_module_version": "1.2.0",
       "_view_name": "StyleView",
       "bar_color": null,
       "description_width": ""
      }
     },
     "6ffd6508d7994c068225a245dbf256a9": {
      "model_module": "@jupyter-widgets/base",
      "model_module_version": "1.2.0",
      "model_name": "LayoutModel",
      "state": {
       "_model_module": "@jupyter-widgets/base",
       "_model_module_version": "1.2.0",
       "_model_name": "LayoutModel",
       "_view_count": null,
       "_view_module": "@jupyter-widgets/base",
       "_view_module_version": "1.2.0",
       "_view_name": "LayoutView",
       "align_content": null,
       "align_items": null,
       "align_self": null,
       "border": null,
       "bottom": null,
       "display": null,
       "flex": null,
       "flex_flow": null,
       "grid_area": null,
       "grid_auto_columns": null,
       "grid_auto_flow": null,
       "grid_auto_rows": null,
       "grid_column": null,
       "grid_gap": null,
       "grid_row": null,
       "grid_template_areas": null,
       "grid_template_columns": null,
       "grid_template_rows": null,
       "height": null,
       "justify_content": null,
       "justify_items": null,
       "left": null,
       "margin": null,
       "max_height": null,
       "max_width": null,
       "min_height": null,
       "min_width": null,
       "object_fit": null,
       "object_position": null,
       "order": null,
       "overflow": null,
       "overflow_x": null,
       "overflow_y": null,
       "padding": null,
       "right": null,
       "top": null,
       "visibility": null,
       "width": null
      }
     },
     "7a90969b426b404bbcb1ceba63da2946": {
      "model_module": "@jupyter-widgets/controls",
      "model_module_version": "1.5.0",
      "model_name": "DescriptionStyleModel",
      "state": {
       "_model_module": "@jupyter-widgets/controls",
       "_model_module_version": "1.5.0",
       "_model_name": "DescriptionStyleModel",
       "_view_count": null,
       "_view_module": "@jupyter-widgets/base",
       "_view_module_version": "1.2.0",
       "_view_name": "StyleView",
       "description_width": ""
      }
     },
     "83f9ecdf59a44562a13a00973976c53e": {
      "model_module": "@jupyter-widgets/base",
      "model_module_version": "1.2.0",
      "model_name": "LayoutModel",
      "state": {
       "_model_module": "@jupyter-widgets/base",
       "_model_module_version": "1.2.0",
       "_model_name": "LayoutModel",
       "_view_count": null,
       "_view_module": "@jupyter-widgets/base",
       "_view_module_version": "1.2.0",
       "_view_name": "LayoutView",
       "align_content": null,
       "align_items": null,
       "align_self": null,
       "border": null,
       "bottom": null,
       "display": null,
       "flex": null,
       "flex_flow": null,
       "grid_area": null,
       "grid_auto_columns": null,
       "grid_auto_flow": null,
       "grid_auto_rows": null,
       "grid_column": null,
       "grid_gap": null,
       "grid_row": null,
       "grid_template_areas": null,
       "grid_template_columns": null,
       "grid_template_rows": null,
       "height": null,
       "justify_content": null,
       "justify_items": null,
       "left": null,
       "margin": null,
       "max_height": null,
       "max_width": null,
       "min_height": null,
       "min_width": null,
       "object_fit": null,
       "object_position": null,
       "order": null,
       "overflow": null,
       "overflow_x": null,
       "overflow_y": null,
       "padding": null,
       "right": null,
       "top": null,
       "visibility": null,
       "width": null
      }
     },
     "8823b4496501490d96a3574fdf2ec68b": {
      "model_module": "@jupyter-widgets/controls",
      "model_module_version": "1.5.0",
      "model_name": "ProgressStyleModel",
      "state": {
       "_model_module": "@jupyter-widgets/controls",
       "_model_module_version": "1.5.0",
       "_model_name": "ProgressStyleModel",
       "_view_count": null,
       "_view_module": "@jupyter-widgets/base",
       "_view_module_version": "1.2.0",
       "_view_name": "StyleView",
       "bar_color": null,
       "description_width": ""
      }
     },
     "8bfbe82bb74b444393f54913783fd835": {
      "model_module": "@jupyter-widgets/controls",
      "model_module_version": "1.5.0",
      "model_name": "ProgressStyleModel",
      "state": {
       "_model_module": "@jupyter-widgets/controls",
       "_model_module_version": "1.5.0",
       "_model_name": "ProgressStyleModel",
       "_view_count": null,
       "_view_module": "@jupyter-widgets/base",
       "_view_module_version": "1.2.0",
       "_view_name": "StyleView",
       "bar_color": null,
       "description_width": ""
      }
     },
     "913159924f724877afb437452247b2da": {
      "model_module": "@jupyter-widgets/base",
      "model_module_version": "1.2.0",
      "model_name": "LayoutModel",
      "state": {
       "_model_module": "@jupyter-widgets/base",
       "_model_module_version": "1.2.0",
       "_model_name": "LayoutModel",
       "_view_count": null,
       "_view_module": "@jupyter-widgets/base",
       "_view_module_version": "1.2.0",
       "_view_name": "LayoutView",
       "align_content": null,
       "align_items": null,
       "align_self": null,
       "border": null,
       "bottom": null,
       "display": null,
       "flex": null,
       "flex_flow": null,
       "grid_area": null,
       "grid_auto_columns": null,
       "grid_auto_flow": null,
       "grid_auto_rows": null,
       "grid_column": null,
       "grid_gap": null,
       "grid_row": null,
       "grid_template_areas": null,
       "grid_template_columns": null,
       "grid_template_rows": null,
       "height": null,
       "justify_content": null,
       "justify_items": null,
       "left": null,
       "margin": null,
       "max_height": null,
       "max_width": null,
       "min_height": null,
       "min_width": null,
       "object_fit": null,
       "object_position": null,
       "order": null,
       "overflow": null,
       "overflow_x": null,
       "overflow_y": null,
       "padding": null,
       "right": null,
       "top": null,
       "visibility": null,
       "width": null
      }
     },
     "9a069849544b441da1130645f1af6260": {
      "model_module": "@jupyter-widgets/base",
      "model_module_version": "1.2.0",
      "model_name": "LayoutModel",
      "state": {
       "_model_module": "@jupyter-widgets/base",
       "_model_module_version": "1.2.0",
       "_model_name": "LayoutModel",
       "_view_count": null,
       "_view_module": "@jupyter-widgets/base",
       "_view_module_version": "1.2.0",
       "_view_name": "LayoutView",
       "align_content": null,
       "align_items": null,
       "align_self": null,
       "border": null,
       "bottom": null,
       "display": null,
       "flex": null,
       "flex_flow": null,
       "grid_area": null,
       "grid_auto_columns": null,
       "grid_auto_flow": null,
       "grid_auto_rows": null,
       "grid_column": null,
       "grid_gap": null,
       "grid_row": null,
       "grid_template_areas": null,
       "grid_template_columns": null,
       "grid_template_rows": null,
       "height": null,
       "justify_content": null,
       "justify_items": null,
       "left": null,
       "margin": null,
       "max_height": null,
       "max_width": null,
       "min_height": null,
       "min_width": null,
       "object_fit": null,
       "object_position": null,
       "order": null,
       "overflow": null,
       "overflow_x": null,
       "overflow_y": null,
       "padding": null,
       "right": null,
       "top": null,
       "visibility": null,
       "width": null
      }
     },
     "a250c74b9f4a4e7b85549996819380eb": {
      "model_module": "@jupyter-widgets/base",
      "model_module_version": "1.2.0",
      "model_name": "LayoutModel",
      "state": {
       "_model_module": "@jupyter-widgets/base",
       "_model_module_version": "1.2.0",
       "_model_name": "LayoutModel",
       "_view_count": null,
       "_view_module": "@jupyter-widgets/base",
       "_view_module_version": "1.2.0",
       "_view_name": "LayoutView",
       "align_content": null,
       "align_items": null,
       "align_self": null,
       "border": null,
       "bottom": null,
       "display": null,
       "flex": null,
       "flex_flow": null,
       "grid_area": null,
       "grid_auto_columns": null,
       "grid_auto_flow": null,
       "grid_auto_rows": null,
       "grid_column": null,
       "grid_gap": null,
       "grid_row": null,
       "grid_template_areas": null,
       "grid_template_columns": null,
       "grid_template_rows": null,
       "height": null,
       "justify_content": null,
       "justify_items": null,
       "left": null,
       "margin": null,
       "max_height": null,
       "max_width": null,
       "min_height": null,
       "min_width": null,
       "object_fit": null,
       "object_position": null,
       "order": null,
       "overflow": null,
       "overflow_x": null,
       "overflow_y": null,
       "padding": null,
       "right": null,
       "top": null,
       "visibility": null,
       "width": null
      }
     },
     "a312a3e7c0f640d5b6a82f13b0310478": {
      "model_module": "@jupyter-widgets/base",
      "model_module_version": "1.2.0",
      "model_name": "LayoutModel",
      "state": {
       "_model_module": "@jupyter-widgets/base",
       "_model_module_version": "1.2.0",
       "_model_name": "LayoutModel",
       "_view_count": null,
       "_view_module": "@jupyter-widgets/base",
       "_view_module_version": "1.2.0",
       "_view_name": "LayoutView",
       "align_content": null,
       "align_items": null,
       "align_self": null,
       "border": null,
       "bottom": null,
       "display": null,
       "flex": null,
       "flex_flow": null,
       "grid_area": null,
       "grid_auto_columns": null,
       "grid_auto_flow": null,
       "grid_auto_rows": null,
       "grid_column": null,
       "grid_gap": null,
       "grid_row": null,
       "grid_template_areas": null,
       "grid_template_columns": null,
       "grid_template_rows": null,
       "height": null,
       "justify_content": null,
       "justify_items": null,
       "left": null,
       "margin": null,
       "max_height": null,
       "max_width": null,
       "min_height": null,
       "min_width": null,
       "object_fit": null,
       "object_position": null,
       "order": null,
       "overflow": null,
       "overflow_x": null,
       "overflow_y": null,
       "padding": null,
       "right": null,
       "top": null,
       "visibility": null,
       "width": null
      }
     },
     "a31d69db68d8402fbf9d3962b89c4450": {
      "model_module": "@jupyter-widgets/controls",
      "model_module_version": "1.5.0",
      "model_name": "HTMLModel",
      "state": {
       "_dom_classes": [],
       "_model_module": "@jupyter-widgets/controls",
       "_model_module_version": "1.5.0",
       "_model_name": "HTMLModel",
       "_view_count": null,
       "_view_module": "@jupyter-widgets/controls",
       "_view_module_version": "1.5.0",
       "_view_name": "HTMLView",
       "description": "",
       "description_tooltip": null,
       "layout": "IPY_MODEL_f168456852704c229dd2fd69a892b692",
       "placeholder": "​",
       "style": "IPY_MODEL_d0464ec3851242f89aa5313a5466a35b",
       "value": "Downloading: 100%"
      }
     },
     "a9d2f85d977a4fcda2e0b48c210f9fcb": {
      "model_module": "@jupyter-widgets/controls",
      "model_module_version": "1.5.0",
      "model_name": "HTMLModel",
      "state": {
       "_dom_classes": [],
       "_model_module": "@jupyter-widgets/controls",
       "_model_module_version": "1.5.0",
       "_model_name": "HTMLModel",
       "_view_count": null,
       "_view_module": "@jupyter-widgets/controls",
       "_view_module_version": "1.5.0",
       "_view_name": "HTMLView",
       "description": "",
       "description_tooltip": null,
       "layout": "IPY_MODEL_a312a3e7c0f640d5b6a82f13b0310478",
       "placeholder": "​",
       "style": "IPY_MODEL_b2ed7d748a074b0d8dd0172cf76f3e55",
       "value": " 466k/466k [00:00&lt;00:00, 879kB/s]"
      }
     },
     "b2ed7d748a074b0d8dd0172cf76f3e55": {
      "model_module": "@jupyter-widgets/controls",
      "model_module_version": "1.5.0",
      "model_name": "DescriptionStyleModel",
      "state": {
       "_model_module": "@jupyter-widgets/controls",
       "_model_module_version": "1.5.0",
       "_model_name": "DescriptionStyleModel",
       "_view_count": null,
       "_view_module": "@jupyter-widgets/base",
       "_view_module_version": "1.2.0",
       "_view_name": "StyleView",
       "description_width": ""
      }
     },
     "b54d6a38562a4a63ae9df62edc3876bb": {
      "model_module": "@jupyter-widgets/controls",
      "model_module_version": "1.5.0",
      "model_name": "FloatProgressModel",
      "state": {
       "_dom_classes": [],
       "_model_module": "@jupyter-widgets/controls",
       "_model_module_version": "1.5.0",
       "_model_name": "FloatProgressModel",
       "_view_count": null,
       "_view_module": "@jupyter-widgets/controls",
       "_view_module_version": "1.5.0",
       "_view_name": "ProgressView",
       "bar_style": "success",
       "description": "",
       "description_tooltip": null,
       "layout": "IPY_MODEL_83f9ecdf59a44562a13a00973976c53e",
       "max": 267967963.0,
       "min": 0.0,
       "orientation": "horizontal",
       "style": "IPY_MODEL_8bfbe82bb74b444393f54913783fd835",
       "value": 267967963.0
      }
     },
     "b7182a0d2ae54604847f0531d6e2f499": {
      "model_module": "@jupyter-widgets/controls",
      "model_module_version": "1.5.0",
      "model_name": "ProgressStyleModel",
      "state": {
       "_model_module": "@jupyter-widgets/controls",
       "_model_module_version": "1.5.0",
       "_model_name": "ProgressStyleModel",
       "_view_count": null,
       "_view_module": "@jupyter-widgets/base",
       "_view_module_version": "1.2.0",
       "_view_name": "StyleView",
       "bar_color": null,
       "description_width": ""
      }
     },
     "bf7a32454c9344038155fda53f6886ce": {
      "model_module": "@jupyter-widgets/base",
      "model_module_version": "1.2.0",
      "model_name": "LayoutModel",
      "state": {
       "_model_module": "@jupyter-widgets/base",
       "_model_module_version": "1.2.0",
       "_model_name": "LayoutModel",
       "_view_count": null,
       "_view_module": "@jupyter-widgets/base",
       "_view_module_version": "1.2.0",
       "_view_name": "LayoutView",
       "align_content": null,
       "align_items": null,
       "align_self": null,
       "border": null,
       "bottom": null,
       "display": null,
       "flex": null,
       "flex_flow": null,
       "grid_area": null,
       "grid_auto_columns": null,
       "grid_auto_flow": null,
       "grid_auto_rows": null,
       "grid_column": null,
       "grid_gap": null,
       "grid_row": null,
       "grid_template_areas": null,
       "grid_template_columns": null,
       "grid_template_rows": null,
       "height": null,
       "justify_content": null,
       "justify_items": null,
       "left": null,
       "margin": null,
       "max_height": null,
       "max_width": null,
       "min_height": null,
       "min_width": null,
       "object_fit": null,
       "object_position": null,
       "order": null,
       "overflow": null,
       "overflow_x": null,
       "overflow_y": null,
       "padding": null,
       "right": null,
       "top": null,
       "visibility": null,
       "width": null
      }
     },
     "c9f7bb3f891e4f8eb052d5feb85ecdca": {
      "model_module": "@jupyter-widgets/base",
      "model_module_version": "1.2.0",
      "model_name": "LayoutModel",
      "state": {
       "_model_module": "@jupyter-widgets/base",
       "_model_module_version": "1.2.0",
       "_model_name": "LayoutModel",
       "_view_count": null,
       "_view_module": "@jupyter-widgets/base",
       "_view_module_version": "1.2.0",
       "_view_name": "LayoutView",
       "align_content": null,
       "align_items": null,
       "align_self": null,
       "border": null,
       "bottom": null,
       "display": null,
       "flex": null,
       "flex_flow": null,
       "grid_area": null,
       "grid_auto_columns": null,
       "grid_auto_flow": null,
       "grid_auto_rows": null,
       "grid_column": null,
       "grid_gap": null,
       "grid_row": null,
       "grid_template_areas": null,
       "grid_template_columns": null,
       "grid_template_rows": null,
       "height": null,
       "justify_content": null,
       "justify_items": null,
       "left": null,
       "margin": null,
       "max_height": null,
       "max_width": null,
       "min_height": null,
       "min_width": null,
       "object_fit": null,
       "object_position": null,
       "order": null,
       "overflow": null,
       "overflow_x": null,
       "overflow_y": null,
       "padding": null,
       "right": null,
       "top": null,
       "visibility": null,
       "width": null
      }
     },
     "cb7964f0170148f8ba2be5fef019d43d": {
      "model_module": "@jupyter-widgets/controls",
      "model_module_version": "1.5.0",
      "model_name": "HBoxModel",
      "state": {
       "_dom_classes": [],
       "_model_module": "@jupyter-widgets/controls",
       "_model_module_version": "1.5.0",
       "_model_name": "HBoxModel",
       "_view_count": null,
       "_view_module": "@jupyter-widgets/controls",
       "_view_module_version": "1.5.0",
       "_view_name": "HBoxView",
       "box_style": "",
       "children": [
        "IPY_MODEL_47a07d6a99514bb09c264b5d7459985d",
        "IPY_MODEL_26fc263fdf994850a027e7673851dc2b",
        "IPY_MODEL_432533db8a6745f880f5b8cc95cc205b"
       ],
       "layout": "IPY_MODEL_ecc8f8547cfb49c6b01a258ea0d0dbb4"
      }
     },
     "cd18a922c14243c1b1baede92d52bed5": {
      "model_module": "@jupyter-widgets/controls",
      "model_module_version": "1.5.0",
      "model_name": "HBoxModel",
      "state": {
       "_dom_classes": [],
       "_model_module": "@jupyter-widgets/controls",
       "_model_module_version": "1.5.0",
       "_model_name": "HBoxModel",
       "_view_count": null,
       "_view_module": "@jupyter-widgets/controls",
       "_view_module_version": "1.5.0",
       "_view_name": "HBoxView",
       "box_style": "",
       "children": [
        "IPY_MODEL_22d77584785b488396d6215f7aa6a77c",
        "IPY_MODEL_ea9c680cc402497a80be399a8bbac6a8",
        "IPY_MODEL_fad4dd39c87d44e49c3d2d786ee2eb67"
       ],
       "layout": "IPY_MODEL_bf7a32454c9344038155fda53f6886ce"
      }
     },
     "d0464ec3851242f89aa5313a5466a35b": {
      "model_module": "@jupyter-widgets/controls",
      "model_module_version": "1.5.0",
      "model_name": "DescriptionStyleModel",
      "state": {
       "_model_module": "@jupyter-widgets/controls",
       "_model_module_version": "1.5.0",
       "_model_name": "DescriptionStyleModel",
       "_view_count": null,
       "_view_module": "@jupyter-widgets/base",
       "_view_module_version": "1.2.0",
       "_view_name": "StyleView",
       "description_width": ""
      }
     },
     "d6d72f41e7464598857d1a845a1f81b0": {
      "model_module": "@jupyter-widgets/controls",
      "model_module_version": "1.5.0",
      "model_name": "FloatProgressModel",
      "state": {
       "_dom_classes": [],
       "_model_module": "@jupyter-widgets/controls",
       "_model_module_version": "1.5.0",
       "_model_name": "FloatProgressModel",
       "_view_count": null,
       "_view_module": "@jupyter-widgets/controls",
       "_view_module_version": "1.5.0",
       "_view_name": "ProgressView",
       "bar_style": "success",
       "description": "",
       "description_tooltip": null,
       "layout": "IPY_MODEL_c9f7bb3f891e4f8eb052d5feb85ecdca",
       "max": 483.0,
       "min": 0.0,
       "orientation": "horizontal",
       "style": "IPY_MODEL_6f528edf7a054b6e91f3bedc48161a75",
       "value": 483.0
      }
     },
     "dd1082d0abb6409aaa29343a0519b67c": {
      "model_module": "@jupyter-widgets/controls",
      "model_module_version": "1.5.0",
      "model_name": "DescriptionStyleModel",
      "state": {
       "_model_module": "@jupyter-widgets/controls",
       "_model_module_version": "1.5.0",
       "_model_name": "DescriptionStyleModel",
       "_view_count": null,
       "_view_module": "@jupyter-widgets/base",
       "_view_module_version": "1.2.0",
       "_view_name": "StyleView",
       "description_width": ""
      }
     },
     "e3a2122269a84e979a125f1708ebac5f": {
      "model_module": "@jupyter-widgets/base",
      "model_module_version": "1.2.0",
      "model_name": "LayoutModel",
      "state": {
       "_model_module": "@jupyter-widgets/base",
       "_model_module_version": "1.2.0",
       "_model_name": "LayoutModel",
       "_view_count": null,
       "_view_module": "@jupyter-widgets/base",
       "_view_module_version": "1.2.0",
       "_view_name": "LayoutView",
       "align_content": null,
       "align_items": null,
       "align_self": null,
       "border": null,
       "bottom": null,
       "display": null,
       "flex": null,
       "flex_flow": null,
       "grid_area": null,
       "grid_auto_columns": null,
       "grid_auto_flow": null,
       "grid_auto_rows": null,
       "grid_column": null,
       "grid_gap": null,
       "grid_row": null,
       "grid_template_areas": null,
       "grid_template_columns": null,
       "grid_template_rows": null,
       "height": null,
       "justify_content": null,
       "justify_items": null,
       "left": null,
       "margin": null,
       "max_height": null,
       "max_width": null,
       "min_height": null,
       "min_width": null,
       "object_fit": null,
       "object_position": null,
       "order": null,
       "overflow": null,
       "overflow_x": null,
       "overflow_y": null,
       "padding": null,
       "right": null,
       "top": null,
       "visibility": null,
       "width": null
      }
     },
     "ea9c680cc402497a80be399a8bbac6a8": {
      "model_module": "@jupyter-widgets/controls",
      "model_module_version": "1.5.0",
      "model_name": "FloatProgressModel",
      "state": {
       "_dom_classes": [],
       "_model_module": "@jupyter-widgets/controls",
       "_model_module_version": "1.5.0",
       "_model_name": "FloatProgressModel",
       "_view_count": null,
       "_view_module": "@jupyter-widgets/controls",
       "_view_module_version": "1.5.0",
       "_view_name": "ProgressView",
       "bar_style": "success",
       "description": "",
       "description_tooltip": null,
       "layout": "IPY_MODEL_24d131c1a53c43fba5ae73b4a536995f",
       "max": 231508.0,
       "min": 0.0,
       "orientation": "horizontal",
       "style": "IPY_MODEL_5a77fc2a9b7641eea5d245ac0da55e58",
       "value": 231508.0
      }
     },
     "ecc8f8547cfb49c6b01a258ea0d0dbb4": {
      "model_module": "@jupyter-widgets/base",
      "model_module_version": "1.2.0",
      "model_name": "LayoutModel",
      "state": {
       "_model_module": "@jupyter-widgets/base",
       "_model_module_version": "1.2.0",
       "_model_name": "LayoutModel",
       "_view_count": null,
       "_view_module": "@jupyter-widgets/base",
       "_view_module_version": "1.2.0",
       "_view_name": "LayoutView",
       "align_content": null,
       "align_items": null,
       "align_self": null,
       "border": null,
       "bottom": null,
       "display": null,
       "flex": null,
       "flex_flow": null,
       "grid_area": null,
       "grid_auto_columns": null,
       "grid_auto_flow": null,
       "grid_auto_rows": null,
       "grid_column": null,
       "grid_gap": null,
       "grid_row": null,
       "grid_template_areas": null,
       "grid_template_columns": null,
       "grid_template_rows": null,
       "height": null,
       "justify_content": null,
       "justify_items": null,
       "left": null,
       "margin": null,
       "max_height": null,
       "max_width": null,
       "min_height": null,
       "min_width": null,
       "object_fit": null,
       "object_position": null,
       "order": null,
       "overflow": null,
       "overflow_x": null,
       "overflow_y": null,
       "padding": null,
       "right": null,
       "top": null,
       "visibility": null,
       "width": null
      }
     },
     "eed95cdf42ae4beda20e2c8efa1edab3": {
      "model_module": "@jupyter-widgets/controls",
      "model_module_version": "1.5.0",
      "model_name": "DescriptionStyleModel",
      "state": {
       "_model_module": "@jupyter-widgets/controls",
       "_model_module_version": "1.5.0",
       "_model_name": "DescriptionStyleModel",
       "_view_count": null,
       "_view_module": "@jupyter-widgets/base",
       "_view_module_version": "1.2.0",
       "_view_name": "StyleView",
       "description_width": ""
      }
     },
     "f168456852704c229dd2fd69a892b692": {
      "model_module": "@jupyter-widgets/base",
      "model_module_version": "1.2.0",
      "model_name": "LayoutModel",
      "state": {
       "_model_module": "@jupyter-widgets/base",
       "_model_module_version": "1.2.0",
       "_model_name": "LayoutModel",
       "_view_count": null,
       "_view_module": "@jupyter-widgets/base",
       "_view_module_version": "1.2.0",
       "_view_name": "LayoutView",
       "align_content": null,
       "align_items": null,
       "align_self": null,
       "border": null,
       "bottom": null,
       "display": null,
       "flex": null,
       "flex_flow": null,
       "grid_area": null,
       "grid_auto_columns": null,
       "grid_auto_flow": null,
       "grid_auto_rows": null,
       "grid_column": null,
       "grid_gap": null,
       "grid_row": null,
       "grid_template_areas": null,
       "grid_template_columns": null,
       "grid_template_rows": null,
       "height": null,
       "justify_content": null,
       "justify_items": null,
       "left": null,
       "margin": null,
       "max_height": null,
       "max_width": null,
       "min_height": null,
       "min_width": null,
       "object_fit": null,
       "object_position": null,
       "order": null,
       "overflow": null,
       "overflow_x": null,
       "overflow_y": null,
       "padding": null,
       "right": null,
       "top": null,
       "visibility": null,
       "width": null
      }
     },
     "fad4dd39c87d44e49c3d2d786ee2eb67": {
      "model_module": "@jupyter-widgets/controls",
      "model_module_version": "1.5.0",
      "model_name": "HTMLModel",
      "state": {
       "_dom_classes": [],
       "_model_module": "@jupyter-widgets/controls",
       "_model_module_version": "1.5.0",
       "_model_name": "HTMLModel",
       "_view_count": null,
       "_view_module": "@jupyter-widgets/controls",
       "_view_module_version": "1.5.0",
       "_view_name": "HTMLView",
       "description": "",
       "description_tooltip": null,
       "layout": "IPY_MODEL_1310f89a7c194559bd1d071d1df7b857",
       "placeholder": "​",
       "style": "IPY_MODEL_5dbb1f9b95704cfd8a54c3cb630424ee",
       "value": " 232k/232k [00:00&lt;00:00, 614kB/s]"
      }
     },
     "fea387fc3cca4522952727baf0084919": {
      "model_module": "@jupyter-widgets/base",
      "model_module_version": "1.2.0",
      "model_name": "LayoutModel",
      "state": {
       "_model_module": "@jupyter-widgets/base",
       "_model_module_version": "1.2.0",
       "_model_name": "LayoutModel",
       "_view_count": null,
       "_view_module": "@jupyter-widgets/base",
       "_view_module_version": "1.2.0",
       "_view_name": "LayoutView",
       "align_content": null,
       "align_items": null,
       "align_self": null,
       "border": null,
       "bottom": null,
       "display": null,
       "flex": null,
       "flex_flow": null,
       "grid_area": null,
       "grid_auto_columns": null,
       "grid_auto_flow": null,
       "grid_auto_rows": null,
       "grid_column": null,
       "grid_gap": null,
       "grid_row": null,
       "grid_template_areas": null,
       "grid_template_columns": null,
       "grid_template_rows": null,
       "height": null,
       "justify_content": null,
       "justify_items": null,
       "left": null,
       "margin": null,
       "max_height": null,
       "max_width": null,
       "min_height": null,
       "min_width": null,
       "object_fit": null,
       "object_position": null,
       "order": null,
       "overflow": null,
       "overflow_x": null,
       "overflow_y": null,
       "padding": null,
       "right": null,
       "top": null,
       "visibility": null,
       "width": null
      }
     },
     "fefeacf0a6cc4771a36c9b3c51f70deb": {
      "model_module": "@jupyter-widgets/base",
      "model_module_version": "1.2.0",
      "model_name": "LayoutModel",
      "state": {
       "_model_module": "@jupyter-widgets/base",
       "_model_module_version": "1.2.0",
       "_model_name": "LayoutModel",
       "_view_count": null,
       "_view_module": "@jupyter-widgets/base",
       "_view_module_version": "1.2.0",
       "_view_name": "LayoutView",
       "align_content": null,
       "align_items": null,
       "align_self": null,
       "border": null,
       "bottom": null,
       "display": null,
       "flex": null,
       "flex_flow": null,
       "grid_area": null,
       "grid_auto_columns": null,
       "grid_auto_flow": null,
       "grid_auto_rows": null,
       "grid_column": null,
       "grid_gap": null,
       "grid_row": null,
       "grid_template_areas": null,
       "grid_template_columns": null,
       "grid_template_rows": null,
       "height": null,
       "justify_content": null,
       "justify_items": null,
       "left": null,
       "margin": null,
       "max_height": null,
       "max_width": null,
       "min_height": null,
       "min_width": null,
       "object_fit": null,
       "object_position": null,
       "order": null,
       "overflow": null,
       "overflow_x": null,
       "overflow_y": null,
       "padding": null,
       "right": null,
       "top": null,
       "visibility": null,
       "width": null
      }
     }
    },
    "version_major": 2,
    "version_minor": 0
   }
  }
 },
 "nbformat": 4,
 "nbformat_minor": 5
}
